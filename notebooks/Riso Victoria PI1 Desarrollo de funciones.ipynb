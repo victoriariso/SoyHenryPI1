{
 "cells": [
  {
   "cell_type": "markdown",
   "metadata": {},
   "source": [
    "# <h4 align=center> **Victoria RISO** </h4>\n",
    "\n",
    "# <h4 align=center> **PROYECTO INDIVIDUAL Nº1 - Machine Learning Operations (MLOps)** </h4>\n",
    "\n",
    "# <h4 align=center>**`Desarrollo de funciones`**</h4>"
   ]
  },
  {
   "cell_type": "code",
   "execution_count": 1,
   "metadata": {},
   "outputs": [],
   "source": [
    "import numpy as np\n",
    "import pandas as pd\n",
    "#import seaborn as sns\n",
    "#import matplotlib.pyplot as plt\n",
    "#%matplotlib inline\n",
    "import warnings\n",
    "warnings.filterwarnings('ignore')\n",
    "\n",
    "#agregados necesarios\n",
    "#import ast\n",
    "#from wordcloud import WordCloud, STOPWORDS\n",
    "from sklearn.feature_extraction.text import TfidfVectorizer\n",
    "from sklearn.metrics.pairwise import cosine_similarity"
   ]
  },
  {
   "cell_type": "code",
   "execution_count": 2,
   "metadata": {},
   "outputs": [],
   "source": [
    "# leo los datos movies_ds_transform.csv\n",
    "# es el dataset con los datos limpios que preparé en las otras notebooks\n",
    "df = pd.read_csv('movies_sin_duplic.csv')"
   ]
  },
  {
   "cell_type": "code",
   "execution_count": 3,
   "metadata": {},
   "outputs": [
    {
     "name": "stdout",
     "output_type": "stream",
     "text": [
      "<class 'pandas.core.frame.DataFrame'>\n",
      "RangeIndex: 45345 entries, 0 to 45344\n",
      "Data columns (total 10 columns):\n",
      " #   Column        Non-Null Count  Dtype  \n",
      "---  ------        --------------  -----  \n",
      " 0   id            45345 non-null  int64  \n",
      " 1   title         45345 non-null  object \n",
      " 2   release_date  45345 non-null  object \n",
      " 3   release_year  45345 non-null  int64  \n",
      " 4   popularity    45345 non-null  float64\n",
      " 5   vote_average  45345 non-null  float64\n",
      " 6   vote_count    45345 non-null  float64\n",
      " 7   budget        45345 non-null  float64\n",
      " 8   revenue       45345 non-null  float64\n",
      " 9   return        45345 non-null  float64\n",
      "dtypes: float64(6), int64(2), object(2)\n",
      "memory usage: 3.5+ MB\n"
     ]
    }
   ],
   "source": [
    "# veo nombre de las columnas, tipo de datos y cantidad de valores no nulos. \n",
    "df.info()"
   ]
  },
  {
   "cell_type": "markdown",
   "metadata": {},
   "source": [
    "</br>"
   ]
  },
  {
   "cell_type": "markdown",
   "metadata": {},
   "source": [
    "### cantidad_filmaciones_mes"
   ]
  },
  {
   "cell_type": "markdown",
   "metadata": {},
   "source": [
    "Se ingresa un mes en idioma Español. Debe devolver la cantidad de películas que fueron estrenadas en el mes consultado en la totalidad del dataset.</br>\n",
    "\n",
    "- id de la película (no necesito el título)\n",
    "- mes de estreno en español (columna preparada en la notebook Transformaciones a partir de la fecha de estreno)"
   ]
  },
  {
   "cell_type": "code",
   "execution_count": null,
   "metadata": {},
   "outputs": [
    {
     "name": "stdout",
     "output_type": "stream",
     "text": [
      "deberían ser meses: ['10' '12' '02' '11' '09' '05' '04' '08' '07' '06' '01' '03']\n",
      "['octubre' 'diciembre' 'febrero' 'noviembre' 'septiembre' 'mayo' 'abril'\n",
      " 'agosto' 'julio' 'junio' 'enero' 'marzo']\n"
     ]
    }
   ],
   "source": [
    "# Preparo para consultas en API una columna con el mes en castellano 'release_month_spa' \n",
    "# PODRIA CONVERTIR EL NOMBRE DEL MES A NUMERO Y PONER ESO EN LA COLUMNA. LA BUSQUEDA SERA MAS RAPIDA\n",
    "\n",
    "# Agrego Desconocido como item 0, para que el indice coincida con los numeros de los meses\n",
    "\n",
    "months = [\"desconocido\",\n",
    "          \"enero\",\n",
    "          \"febrero\",\n",
    "          \"marzo\",\n",
    "          \"abril\",\n",
    "          \"mayo\",\n",
    "          \"junio\",\n",
    "          \"julio\",\n",
    "          \"agosto\",\n",
    "          \"septiembre\",\n",
    "          \"octubre\",\n",
    "          \"noviembre\",\n",
    "          \"diciembre\"]\n",
    "\n",
    "# en una nueva columna guardo el mes en que se estreno la pelicula\n",
    "df['release_month_spa'] = df['release_date'].str[5:7].apply(lambda x: months[int(x)])\n",
    "\n",
    "# reviso que los meses se correspondan con el numero del indice\n",
    "print('deberían ser meses:', df['release_date'].str[5:7].unique())\n",
    "print(df['release_month_spa'].unique())"
   ]
  },
  {
   "cell_type": "code",
   "execution_count": 9,
   "metadata": {},
   "outputs": [],
   "source": [
    "# GUARDO dataset reducidos para la función de mes \n",
    "movies_ds_mes = df[['id', 'release_month_spa']].copy()\n",
    "movies_ds_mes.to_csv(\"movies_ds_mes.csv\" , index=False)"
   ]
  },
  {
   "cell_type": "code",
   "execution_count": 11,
   "metadata": {},
   "outputs": [
    {
     "data": {
      "text/plain": [
       "release_month_spa\n",
       "enero         5909\n",
       "septiembre    4834\n",
       "octubre       4613\n",
       "diciembre     3781\n",
       "noviembre     3661\n",
       "marzo         3549\n",
       "abril         3452\n",
       "agosto        3393\n",
       "mayo          3336\n",
       "junio         3151\n",
       "febrero       3028\n",
       "julio         2638\n",
       "Name: count, dtype: int64"
      ]
     },
     "execution_count": 11,
     "metadata": {},
     "output_type": "execute_result"
    }
   ],
   "source": [
    "# averiguo cantidad de películas estrenadas por mes en el dataset\n",
    "movies_ds_mes[\"release_month_spa\"].value_counts()"
   ]
  },
  {
   "cell_type": "code",
   "execution_count": 19,
   "metadata": {},
   "outputs": [
    {
     "name": "stdout",
     "output_type": "stream",
     "text": [
      "En el mes de septiembre se estrenaron 4834 películas.\n"
     ]
    }
   ],
   "source": [
    "# función cantidad_filmaciones_mes\n",
    "\n",
    "mes = 'Setiembre'\n",
    "\n",
    "if (mes.lower() == 'setiembre'):\n",
    "    mes = 'septiembre'\n",
    "\n",
    "qtt_movies_month = movies_ds_mes.loc[movies_ds_mes['release_month_spa'] == mes.lower(), 'id'].count()\n",
    "\n",
    "print(f\"En el mes de {mes} se estrenaron {qtt_movies_month} películas.\")\n",
    "      "
   ]
  },
  {
   "cell_type": "markdown",
   "metadata": {},
   "source": [
    "</br>"
   ]
  },
  {
   "cell_type": "markdown",
   "metadata": {},
   "source": [
    "### cantidad_filmaciones_dia"
   ]
  },
  {
   "cell_type": "markdown",
   "metadata": {},
   "source": [
    "Se ingresa un día en idioma Español. Debe devolver la cantidad de películas que fueron estrenadas en día consultado en la totalidad del dataset.</br>\n",
    "\n",
    "- id de la película \n",
    "- día de la semana (en idioma español) en que se estrenó la película (preparado en la notebook Transformaciones a partir de la fecha de estreno)"
   ]
  },
  {
   "cell_type": "code",
   "execution_count": 21,
   "metadata": {},
   "outputs": [],
   "source": [
    "#### API - FUNCION cantidad_filmaciones_dia\n",
    "# Preparo para consultas en API una columna con el dia de la semana en castellano\n",
    "# PUEDO CONVERTIR EL NOMBRE DEL DIA DE LA SEMANA A NUMERO Y PONER ESO EN LA COLUMNA. ¿LA BUSQUEDA SERIA MAS RAPIDA?\n",
    "\n",
    "# Series.dt.dayofweek[source] The day of the week with Monday=0, Sunday=6.\n",
    "\n",
    "# el índice del array coincide con el numero del dia de la semana asignado por Series.dt.dayofweek Monday=0, Sunday=6\n",
    "\n",
    "day_week = [\"lunes\",\n",
    "          \"martes\",\n",
    "          \"miércoles\",\n",
    "          \"jueves\",\n",
    "          \"viernes\",\n",
    "          \"sábado\",\n",
    "          \"domingo\"]"
   ]
  },
  {
   "cell_type": "code",
   "execution_count": 22,
   "metadata": {},
   "outputs": [
    {
     "name": "stdout",
     "output_type": "stream",
     "text": [
      "dias de la semana en numeros: [0 4 3 2 5 1 6]\n",
      "['lunes' 'viernes' 'jueves' 'miércoles' 'sábado' 'martes' 'domingo']\n"
     ]
    }
   ],
   "source": [
    "# release_date  object\n",
    "# convertir la columna 'release_date' a datetime para poder usar dayofweek\n",
    "\n",
    "# Converting 'Date' column to datetime\n",
    "# df['Date'] = pd.to_datetime(df['Date'])\n",
    "df['release_date'] = pd.to_datetime(df['release_date'])\n",
    "\n",
    "# en una nueva columna guardo el dia de la semana en que se estreno la pelicula\n",
    "df['day_week_spa'] = df['release_date'].dt.dayofweek.apply(lambda x: day_week[int(x)])\n",
    "\n",
    "# reviso que los numeros de dias asignados se correspondan con el numero del indice\n",
    "print('dias de la semana en numeros:', df['release_date'].dt.dayofweek.unique())\n",
    "print(df['day_week_spa'].unique())"
   ]
  },
  {
   "cell_type": "code",
   "execution_count": 23,
   "metadata": {},
   "outputs": [],
   "source": [
    "# GUARDO el dataset reducido \n",
    "movies_ds_dia = df[['id', 'day_week_spa']].copy()\n",
    "movies_ds_dia.to_csv(\"movies_ds_dia.csv\" , index=False)"
   ]
  },
  {
   "cell_type": "code",
   "execution_count": 24,
   "metadata": {},
   "outputs": [
    {
     "name": "stdout",
     "output_type": "stream",
     "text": [
      "<class 'pandas.core.frame.DataFrame'>\n",
      "RangeIndex: 45345 entries, 0 to 45344\n",
      "Data columns (total 2 columns):\n",
      " #   Column        Non-Null Count  Dtype \n",
      "---  ------        --------------  ----- \n",
      " 0   id            45345 non-null  int64 \n",
      " 1   day_week_spa  45345 non-null  object\n",
      "dtypes: int64(1), object(1)\n",
      "memory usage: 708.6+ KB\n"
     ]
    }
   ],
   "source": [
    "movies_ds_dia.info()"
   ]
  },
  {
   "cell_type": "code",
   "execution_count": 25,
   "metadata": {},
   "outputs": [
    {
     "data": {
      "text/plain": [
       "day_week_spa\n",
       "viernes      13902\n",
       "jueves        7520\n",
       "miércoles     7027\n",
       "sábado        5149\n",
       "martes        4639\n",
       "domingo       3608\n",
       "lunes         3500\n",
       "Name: count, dtype: int64"
      ]
     },
     "execution_count": 25,
     "metadata": {},
     "output_type": "execute_result"
    }
   ],
   "source": [
    "# averiguo cantidad de películas estrenadas por día de la semana en el dataset\n",
    "movies_ds_dia[\"day_week_spa\"].value_counts()"
   ]
  },
  {
   "cell_type": "code",
   "execution_count": 29,
   "metadata": {},
   "outputs": [
    {
     "name": "stdout",
     "output_type": "stream",
     "text": [
      "En día miércoles se estrenaron 7027 películas.\n"
     ]
    }
   ],
   "source": [
    "# FUNCION cantidad_filmaciones_dia\n",
    "\n",
    "dia = 'miercoles'\n",
    "\n",
    "if dia.lower() == 'sabado':\n",
    "    dia = 'sábado'\n",
    "elif dia.lower() == 'miercoles':\n",
    "    dia = 'miércoles'\n",
    "\n",
    "qtt_movies_day = movies_ds_dia.loc[movies_ds_dia['day_week_spa'] == dia.lower(), 'id'].count() \n",
    " \n",
    "print(f\"En día {dia} se estrenaron {qtt_movies_day} películas.\" )"
   ]
  },
  {
   "cell_type": "markdown",
   "metadata": {},
   "source": [
    "</br>"
   ]
  },
  {
   "cell_type": "markdown",
   "metadata": {},
   "source": [
    "### score_titulo"
   ]
  },
  {
   "cell_type": "markdown",
   "metadata": {},
   "source": [
    "Se ingresa el título de una películas. Devuelve el título, el año de estreno y el score (columna popularity).</br>\n",
    "\n",
    "- id de la película \n",
    "- title\n",
    "- release_year\n",
    "- popularity (piden score/popularidad. Es esa columna) </br>\n",
    "\n",
    "(ya tengo todas las columnas necesarias) "
   ]
  },
  {
   "cell_type": "code",
   "execution_count": 31,
   "metadata": {},
   "outputs": [],
   "source": [
    "# PREPARO FUNCION score_titulo\n",
    "\n",
    "# No olvidar! Convertir los titulos a minuscula solo cuando busco. Ver si no es muy lento. \n",
    "# Si guardo todo en minuscula no quedara prolijo el mensaje de retorno \n",
    "# (me parecería mejor llamarlo mensaje de salida o output )"
   ]
  },
  {
   "cell_type": "code",
   "execution_count": 32,
   "metadata": {},
   "outputs": [],
   "source": [
    "# Guardo el dataset con las columnas que necesito\n",
    "movies_ds_score = df[['id', 'title', 'release_year', 'popularity']].copy()\n",
    "movies_ds_score.to_csv(\"movies_ds_score.csv\" , index=False)"
   ]
  },
  {
   "cell_type": "markdown",
   "metadata": {},
   "source": [
    "Pruebo Tiene que dar estos valores: <br>\n",
    "11860,Sabrina,6.677277 <br>\n",
    "710,GoldenEye,14.686036 <br>\n",
    "9087,The American President,6.318445 <br>\n",
    "10858,Nixon,5.092 <br>\n",
    "9302,Up Close & Personal,1996,3.402749 <br>\n",
    "11000,The Birdcage,1996,6.49968 <br>"
   ]
  },
  {
   "cell_type": "code",
   "execution_count": 33,
   "metadata": {},
   "outputs": [
    {
     "name": "stdout",
     "output_type": "stream",
     "text": [
      "La película Up Close & PersOnAl se estrenó en el año 1996 con un score/popularidad de 3.402749.\n"
     ]
    }
   ],
   "source": [
    "title_prueba = 'Up Close & PersOnAl'\n",
    "\n",
    "# row = df.loc[df['Name'] == 'Alice', ['Age', 'Country', 'Salary']]\n",
    "\n",
    "# puede haber mas de una película con el mismo nombre. Ver qué hacer title_prueba = 'Sabrina'\n",
    "# Es un MVP. Por ahora muestra los datos de la primera pelicula que aparezca con ese nombre\n",
    "\n",
    "row = movies_ds_score.loc[movies_ds_score['title'].str.lower() == title_prueba.lower(), ['release_year', 'popularity']] # esto es un dataframe nuevo. ver como leerlo puede ser pesado\n",
    "\n",
    "print(f\"La película {title_prueba} se estrenó en el año {row['release_year'].values[0]} con un score/popularidad de {row['popularity'].values[0]}.\")"
   ]
  },
  {
   "cell_type": "markdown",
   "metadata": {},
   "source": [
    "<br/>"
   ]
  },
  {
   "cell_type": "markdown",
   "metadata": {},
   "source": [
    "### votos_titulo"
   ]
  },
  {
   "cell_type": "markdown",
   "metadata": {},
   "source": [
    "Se ingresa el título de una película. Devuelve la cantidad de votos y el valor promedio de las votaciones. </br>\n",
    "vote_count deberá tener al menos 2000 valoraciones. Si no, un mensaje avisa que no cumple esta condición y que no se devuelve ningun valor. </br>\n",
    "\n",
    " - id de la película \n",
    " - title,\n",
    " - release_year,\n",
    " - vote_average,\n",
    " - vote_count\n",
    "\n",
    "(tengo todas las columnas necesarias) "
   ]
  },
  {
   "cell_type": "code",
   "execution_count": 34,
   "metadata": {},
   "outputs": [],
   "source": [
    "movies_ds_votos = df[['id', 'title', 'release_year', 'vote_average', 'vote_count']].copy()\n",
    "movies_ds_votos.to_csv(\"movies_ds_votos.csv\" , index=False)"
   ]
  },
  {
   "cell_type": "markdown",
   "metadata": {},
   "source": [
    "Para probar: </br>\n",
    "id,title,release_year,vote_average,vote_count</br>\n",
    "862,Toy Story,1995,7.7,5415.0</br>\n",
    "8844,Jumanji,1995,6.9,2413.0</br>\n",
    "117164,Guardian Angel,1994,6.3,3.0</br>\n",
    "97406,Georgia,1995,6.1,15.0</br>"
   ]
  },
  {
   "cell_type": "code",
   "execution_count": 37,
   "metadata": {},
   "outputs": [
    {
     "name": "stdout",
     "output_type": "stream",
     "text": [
      "La película Toy StorY se estrenó en el año 1995. La misma cuenta con un total de 5415.0 valoraciones, con un promedio de 7.7.\n"
     ]
    }
   ],
   "source": [
    "titulo = 'Toy StorY'\n",
    "\n",
    "# busca en el dataset la pelicula cuyo titulo se ingresó\n",
    "titulo_datos = movies_ds_votos.loc[movies_ds_votos['title'].str.lower() == titulo.lower(), ['release_year', 'vote_average', 'vote_count']] # esto es un dataframe nuevo. ver como leerlo puede ser pesado\n",
    "\n",
    "# pruebo para guardar la cantidad de votos. En main no se puede usar en el mensaje los valores de la columna directamente, sin guardarlos en una variable\n",
    "tit_vote_count = titulo_datos['vote_count'].values[0]\n",
    "\n",
    "msg = f\"La película {titulo} se estrenó en el año {titulo_datos['release_year'].values[0]}. La misma cuenta con un total de {titulo_datos['vote_count'].values[0]} valoraciones, con un promedio de {titulo_datos['vote_average'].values[0]}.\"\n",
    "\n",
    "# Si la cantidad de votos es menor a 2000 valoraciones informa que no cumple esta condición y no se devuelve ningun valor\n",
    "if tit_vote_count < 2000:\n",
    "    msg = f\"La película {titulo} tiene menos de 2000 valoraciones. No se devuelve ningun valor.\" \n",
    "  \n",
    "print(msg)\n"
   ]
  },
  {
   "cell_type": "markdown",
   "metadata": {},
   "source": [
    "</br>"
   ]
  },
  {
   "cell_type": "markdown",
   "metadata": {},
   "source": [
    "### get_actor"
   ]
  },
  {
   "cell_type": "markdown",
   "metadata": {},
   "source": [
    "Se ingresa el nombre de un actor que se encuentre dentro de un dataset debiendo devolver el éxito del mismo medido a través del retorno. Además, la cantidad de películas que en las que ha participado y el promedio de retorno. La definición no deberá considerar directores.. </br>\n",
    "\n",
    "- id de la película \n",
    "- id del actor (campos id de la columna cast de la tabla credits) \n",
    "- nombre del actor (campos name de la columna cast de la tabla credits)\n",
    "- título de cada pelicula en la que participó\n",
    "- return de cada pelicula en la que participó\n",
    "- es_director (columna bool (True/False) indicando los actores que tambien son directores porque hay que informar eso y no mostrar sus datos)"
   ]
  },
  {
   "cell_type": "markdown",
   "metadata": {},
   "source": [
    "Comentarios.</br>\n",
    "En la notebook de Transformaciones desanidé la columna cast del dataset credits para obtener los nombres de los actores.</br>\n",
    "</br>\n",
    "Como en una película actúan muchos actores y en el nuevo archivo tendré una fila por cada actor y película, si incluyera todos los actores</br>\n",
    "de todas las peliculas seria un dataset muy pesado (demasiado grande) </br>\n",
    "Para empezar selecciono 20 actores o actrices conocidos. </br>\n",
    "Mas adelante vere otra forma de almacenarlos que sea mas eficiente. Podria guardar el nombre del actor y un diccionario con las peliculas en las que actua</br>\n",
    "Pero eso no seria muy eficiente para actualizar los datos, creo.</br>\n",
    "</br>\n",
    "Algunos de los actores seleccionados sé que tambien son directores. Pero la confirmacion de que son directores la hago consultando el dataset de directores que </br>\n",
    "tambien preparé en la notebook de Transformaciones."
   ]
  },
  {
   "cell_type": "code",
   "execution_count": 3,
   "metadata": {},
   "outputs": [
    {
     "name": "stdout",
     "output_type": "stream",
     "text": [
      "<class 'pandas.core.frame.DataFrame'>\n",
      "RangeIndex: 564257 entries, 0 to 564256\n",
      "Data columns (total 3 columns):\n",
      " #   Column      Non-Null Count   Dtype  \n",
      "---  ------      --------------   -----  \n",
      " 0   movie_id    564257 non-null  int64  \n",
      " 1   actor_id    561909 non-null  float64\n",
      " 2   actor_name  561909 non-null  object \n",
      "dtypes: float64(1), int64(1), object(1)\n",
      "memory usage: 12.9+ MB\n"
     ]
    }
   ],
   "source": [
    "# Leo el dataset que tienen los nombres de los actores o actrices y las peliculas donde actuaron. \n",
    "# Hay una fila por cada actor y pelicula\n",
    "dfa = pd.read_csv('credits_actors.csv')\n",
    "dfa.columns = ['movie_id', 'actor_id', 'actor_name'] # renombro las columnas\n",
    "dfa.info()"
   ]
  },
  {
   "cell_type": "markdown",
   "metadata": {},
   "source": [
    "Hay muchos actor_id null. ¿Nombres de Peliculas sin actores? Selecciono los actores que me interesan y despues vere si tengo que resolver algo mas. "
   ]
  },
  {
   "cell_type": "code",
   "execution_count": 4,
   "metadata": {},
   "outputs": [
    {
     "name": "stdout",
     "output_type": "stream",
     "text": [
      "<class 'pandas.core.frame.DataFrame'>\n",
      "RangeIndex: 48957 entries, 0 to 48956\n",
      "Data columns (total 3 columns):\n",
      " #   Column         Non-Null Count  Dtype \n",
      "---  ------         --------------  ----- \n",
      " 0   movie_id       48957 non-null  int64 \n",
      " 1   director_id    48957 non-null  int64 \n",
      " 2   director_name  48957 non-null  object\n",
      "dtypes: int64(2), object(1)\n",
      "memory usage: 1.1+ MB\n"
     ]
    }
   ],
   "source": [
    "# Leo el dataset que tienen los nombres de los directores o directoras y las peliculas que dirigieron.\n",
    "# Hay una fila por cada director y pelicula\n",
    "dfd = pd.read_csv('credits_directors.csv')\n",
    "dfd.columns = ['movie_id', 'director_id', 'director_name'] # renombro las columnas\n",
    "dfd.info()"
   ]
  },
  {
   "cell_type": "markdown",
   "metadata": {},
   "source": [
    "Elegí previamente 20 actores o actrices que conozco para usar en esta prueba </br>\n",
    "Brad Pitt, Clint Eastwood, Denzel Washington, Emma Stone, Emma Thompson, Emma Watson, Harrison Ford, Jessica Lange, Jodie Foster, Johnny Depp, Keanu Reeves, Leonardo DiCaprio, Meryl Streep, Robert Redford, Sally Field, Sandra Bullock, Tom Cruise, Tom Hanks, Will Smith, Woody Allen </br>"
   ]
  },
  {
   "cell_type": "code",
   "execution_count": 5,
   "metadata": {},
   "outputs": [],
   "source": [
    "# creo un nuevo dataset (de menor tamaño) seleccionando solo los actores o actrices que elegi para este MVP\n",
    "actors_selected = ['Brad Pitt', 'Clint Eastwood', 'Denzel Washington', 'Emma Stone', 'Emma Thompson', 'Emma Watson', 'Harrison Ford', 'Jessica Lange', \n",
    "                   'Jodie Foster', 'Johnny Depp', 'Keanu Reeves', 'Leonardo DiCaprio', 'Meryl Streep', 'Robert Redford', 'Sally Field', 'Sandra Bullock', \n",
    "                   'Tom Cruise', 'Tom Hanks', 'Will Smith', 'Woody Allen']\n",
    "df_actors_sel = dfa.loc[dfa['actor_name'].isin(actors_selected)]"
   ]
  },
  {
   "cell_type": "code",
   "execution_count": 6,
   "metadata": {},
   "outputs": [
    {
     "name": "stdout",
     "output_type": "stream",
     "text": [
      "<class 'pandas.core.frame.DataFrame'>\n",
      "Index: 954 entries, 0 to 563104\n",
      "Data columns (total 3 columns):\n",
      " #   Column      Non-Null Count  Dtype  \n",
      "---  ------      --------------  -----  \n",
      " 0   movie_id    954 non-null    int64  \n",
      " 1   actor_id    954 non-null    float64\n",
      " 2   actor_name  954 non-null    object \n",
      "dtypes: float64(1), int64(1), object(1)\n",
      "memory usage: 29.8+ KB\n"
     ]
    }
   ],
   "source": [
    "df_actors_sel.info()"
   ]
  },
  {
   "cell_type": "code",
   "execution_count": 7,
   "metadata": {},
   "outputs": [
    {
     "data": {
      "text/html": [
       "<div>\n",
       "<style scoped>\n",
       "    .dataframe tbody tr th:only-of-type {\n",
       "        vertical-align: middle;\n",
       "    }\n",
       "\n",
       "    .dataframe tbody tr th {\n",
       "        vertical-align: top;\n",
       "    }\n",
       "\n",
       "    .dataframe thead th {\n",
       "        text-align: right;\n",
       "    }\n",
       "</style>\n",
       "<table border=\"1\" class=\"dataframe\">\n",
       "  <thead>\n",
       "    <tr style=\"text-align: right;\">\n",
       "      <th></th>\n",
       "      <th>movie_id</th>\n",
       "      <th>actor_id</th>\n",
       "      <th>actor_name</th>\n",
       "    </tr>\n",
       "  </thead>\n",
       "  <tbody>\n",
       "    <tr>\n",
       "      <th>0</th>\n",
       "      <td>862</td>\n",
       "      <td>31.0</td>\n",
       "      <td>Tom Hanks</td>\n",
       "    </tr>\n",
       "    <tr>\n",
       "      <th>133</th>\n",
       "      <td>11860</td>\n",
       "      <td>3.0</td>\n",
       "      <td>Harrison Ford</td>\n",
       "    </tr>\n",
       "    <tr>\n",
       "      <th>376</th>\n",
       "      <td>4584</td>\n",
       "      <td>7056.0</td>\n",
       "      <td>Emma Thompson</td>\n",
       "    </tr>\n",
       "    <tr>\n",
       "      <th>624</th>\n",
       "      <td>63</td>\n",
       "      <td>287.0</td>\n",
       "      <td>Brad Pitt</td>\n",
       "    </tr>\n",
       "    <tr>\n",
       "      <th>712</th>\n",
       "      <td>47018</td>\n",
       "      <td>7056.0</td>\n",
       "      <td>Emma Thompson</td>\n",
       "    </tr>\n",
       "    <tr>\n",
       "      <th>908</th>\n",
       "      <td>807</td>\n",
       "      <td>287.0</td>\n",
       "      <td>Brad Pitt</td>\n",
       "    </tr>\n",
       "    <tr>\n",
       "      <th>1002</th>\n",
       "      <td>11448</td>\n",
       "      <td>1243.0</td>\n",
       "      <td>Woody Allen</td>\n",
       "    </tr>\n",
       "    <tr>\n",
       "      <th>1084</th>\n",
       "      <td>17182</td>\n",
       "      <td>35.0</td>\n",
       "      <td>Sally Field</td>\n",
       "    </tr>\n",
       "    <tr>\n",
       "      <th>1131</th>\n",
       "      <td>19760</td>\n",
       "      <td>18277.0</td>\n",
       "      <td>Sandra Bullock</td>\n",
       "    </tr>\n",
       "    <tr>\n",
       "      <th>1507</th>\n",
       "      <td>2086</td>\n",
       "      <td>85.0</td>\n",
       "      <td>Johnny Depp</td>\n",
       "    </tr>\n",
       "  </tbody>\n",
       "</table>\n",
       "</div>"
      ],
      "text/plain": [
       "      movie_id  actor_id      actor_name\n",
       "0          862      31.0       Tom Hanks\n",
       "133      11860       3.0   Harrison Ford\n",
       "376       4584    7056.0   Emma Thompson\n",
       "624         63     287.0       Brad Pitt\n",
       "712      47018    7056.0   Emma Thompson\n",
       "908        807     287.0       Brad Pitt\n",
       "1002     11448    1243.0     Woody Allen\n",
       "1084     17182      35.0     Sally Field\n",
       "1131     19760   18277.0  Sandra Bullock\n",
       "1507      2086      85.0     Johnny Depp"
      ]
     },
     "execution_count": 7,
     "metadata": {},
     "output_type": "execute_result"
    }
   ],
   "source": [
    "# miro como quedo el dataset\n",
    "df_actors_sel.head(10)"
   ]
  },
  {
   "cell_type": "code",
   "execution_count": 8,
   "metadata": {},
   "outputs": [
    {
     "data": {
      "text/plain": [
       "actor_name\n",
       "Tom Hanks            72\n",
       "Johnny Depp          69\n",
       "Meryl Streep         66\n",
       "Keanu Reeves         64\n",
       "Clint Eastwood       63\n",
       "Harrison Ford        59\n",
       "Brad Pitt            59\n",
       "Woody Allen          56\n",
       "Robert Redford       50\n",
       "Denzel Washington    48\n",
       "Emma Thompson        47\n",
       "Tom Cruise           47\n",
       "Sandra Bullock       39\n",
       "Jodie Foster         38\n",
       "Jessica Lange        38\n",
       "Sally Field          35\n",
       "Leonardo DiCaprio    32\n",
       "Will Smith           30\n",
       "Emma Stone           23\n",
       "Emma Watson          19\n",
       "Name: count, dtype: int64"
      ]
     },
     "execution_count": 8,
     "metadata": {},
     "output_type": "execute_result"
    }
   ],
   "source": [
    "# veo cuantas peliculas tiene cada actor seleccionado\n",
    "# tienen muchas. tal vez tenga que reducir el dataset\n",
    "df_actors_sel[\"actor_name\"].value_counts()"
   ]
  },
  {
   "cell_type": "code",
   "execution_count": 9,
   "metadata": {},
   "outputs": [],
   "source": [
    "# identifico los actores que tambien son directores con un merge\n",
    "# estas instrucciones son medio desprolijas. ahora quiero que funcione. Mejorar mas adelante\n",
    "# hago merge con los nombres porqu eno se si los directores tiene losmismos ids que los actores\n",
    "# espero que las filas de los actores que no son directores queden en NaN y los que son directores con los nombres de los mismos\n",
    "df_actors_merge = pd.merge(df_actors_sel, dfd['director_name'], how='left', left_on='actor_name', right_on='director_name')"
   ]
  },
  {
   "cell_type": "code",
   "execution_count": 10,
   "metadata": {},
   "outputs": [
    {
     "name": "stdout",
     "output_type": "stream",
     "text": [
      "<class 'pandas.core.frame.DataFrame'>\n",
      "RangeIndex: 6538 entries, 0 to 6537\n",
      "Data columns (total 4 columns):\n",
      " #   Column         Non-Null Count  Dtype  \n",
      "---  ------         --------------  -----  \n",
      " 0   movie_id       6538 non-null   int64  \n",
      " 1   actor_id       6538 non-null   float64\n",
      " 2   actor_name     6538 non-null   object \n",
      " 3   director_name  6079 non-null   object \n",
      "dtypes: float64(1), int64(1), object(2)\n",
      "memory usage: 204.4+ KB\n"
     ]
    }
   ],
   "source": [
    "df_actors_merge.info()"
   ]
  },
  {
   "cell_type": "code",
   "execution_count": 11,
   "metadata": {},
   "outputs": [
    {
     "data": {
      "text/html": [
       "<div>\n",
       "<style scoped>\n",
       "    .dataframe tbody tr th:only-of-type {\n",
       "        vertical-align: middle;\n",
       "    }\n",
       "\n",
       "    .dataframe tbody tr th {\n",
       "        vertical-align: top;\n",
       "    }\n",
       "\n",
       "    .dataframe thead th {\n",
       "        text-align: right;\n",
       "    }\n",
       "</style>\n",
       "<table border=\"1\" class=\"dataframe\">\n",
       "  <thead>\n",
       "    <tr style=\"text-align: right;\">\n",
       "      <th></th>\n",
       "      <th>movie_id</th>\n",
       "      <th>actor_id</th>\n",
       "      <th>actor_name</th>\n",
       "      <th>director_name</th>\n",
       "    </tr>\n",
       "  </thead>\n",
       "  <tbody>\n",
       "    <tr>\n",
       "      <th>0</th>\n",
       "      <td>862</td>\n",
       "      <td>31.0</td>\n",
       "      <td>Tom Hanks</td>\n",
       "      <td>Tom Hanks</td>\n",
       "    </tr>\n",
       "    <tr>\n",
       "      <th>1</th>\n",
       "      <td>862</td>\n",
       "      <td>31.0</td>\n",
       "      <td>Tom Hanks</td>\n",
       "      <td>Tom Hanks</td>\n",
       "    </tr>\n",
       "    <tr>\n",
       "      <th>2</th>\n",
       "      <td>862</td>\n",
       "      <td>31.0</td>\n",
       "      <td>Tom Hanks</td>\n",
       "      <td>Tom Hanks</td>\n",
       "    </tr>\n",
       "    <tr>\n",
       "      <th>3</th>\n",
       "      <td>11860</td>\n",
       "      <td>3.0</td>\n",
       "      <td>Harrison Ford</td>\n",
       "      <td>NaN</td>\n",
       "    </tr>\n",
       "    <tr>\n",
       "      <th>4</th>\n",
       "      <td>4584</td>\n",
       "      <td>7056.0</td>\n",
       "      <td>Emma Thompson</td>\n",
       "      <td>NaN</td>\n",
       "    </tr>\n",
       "    <tr>\n",
       "      <th>5</th>\n",
       "      <td>63</td>\n",
       "      <td>287.0</td>\n",
       "      <td>Brad Pitt</td>\n",
       "      <td>NaN</td>\n",
       "    </tr>\n",
       "    <tr>\n",
       "      <th>6</th>\n",
       "      <td>47018</td>\n",
       "      <td>7056.0</td>\n",
       "      <td>Emma Thompson</td>\n",
       "      <td>NaN</td>\n",
       "    </tr>\n",
       "    <tr>\n",
       "      <th>7</th>\n",
       "      <td>807</td>\n",
       "      <td>287.0</td>\n",
       "      <td>Brad Pitt</td>\n",
       "      <td>NaN</td>\n",
       "    </tr>\n",
       "    <tr>\n",
       "      <th>8</th>\n",
       "      <td>11448</td>\n",
       "      <td>1243.0</td>\n",
       "      <td>Woody Allen</td>\n",
       "      <td>Woody Allen</td>\n",
       "    </tr>\n",
       "    <tr>\n",
       "      <th>9</th>\n",
       "      <td>11448</td>\n",
       "      <td>1243.0</td>\n",
       "      <td>Woody Allen</td>\n",
       "      <td>Woody Allen</td>\n",
       "    </tr>\n",
       "  </tbody>\n",
       "</table>\n",
       "</div>"
      ],
      "text/plain": [
       "   movie_id  actor_id     actor_name director_name\n",
       "0       862      31.0      Tom Hanks     Tom Hanks\n",
       "1       862      31.0      Tom Hanks     Tom Hanks\n",
       "2       862      31.0      Tom Hanks     Tom Hanks\n",
       "3     11860       3.0  Harrison Ford           NaN\n",
       "4      4584    7056.0  Emma Thompson           NaN\n",
       "5        63     287.0      Brad Pitt           NaN\n",
       "6     47018    7056.0  Emma Thompson           NaN\n",
       "7       807     287.0      Brad Pitt           NaN\n",
       "8     11448    1243.0    Woody Allen   Woody Allen\n",
       "9     11448    1243.0    Woody Allen   Woody Allen"
      ]
     },
     "execution_count": 11,
     "metadata": {},
     "output_type": "execute_result"
    }
   ],
   "source": [
    "df_actors_merge.head(10)"
   ]
  },
  {
   "cell_type": "code",
   "execution_count": 12,
   "metadata": {},
   "outputs": [],
   "source": [
    "# aparecen duplicados.\n",
    "   # Why do we need to drop the duplicates after the merge? and why does the merge generate duplciates?\n",
    "   # Merge is a mathematical operation on sets and it works the same way. When you have more than one match of a value in the second set, it puts it in the final dataframe\n",
    "# los elimino\n",
    "# tengo que tener la misma cantidad de filas que antes del merge\n",
    "df_actors_merge.drop_duplicates(subset=['movie_id', 'actor_id'], keep='first', inplace=True, ignore_index=True)\n",
    "#dfc_sindup = df_actors_merge.drop_duplicates(subset='id', keep=\"last\")"
   ]
  },
  {
   "cell_type": "code",
   "execution_count": 13,
   "metadata": {},
   "outputs": [
    {
     "name": "stdout",
     "output_type": "stream",
     "text": [
      "<class 'pandas.core.frame.DataFrame'>\n",
      "RangeIndex: 952 entries, 0 to 951\n",
      "Data columns (total 4 columns):\n",
      " #   Column         Non-Null Count  Dtype  \n",
      "---  ------         --------------  -----  \n",
      " 0   movie_id       952 non-null    int64  \n",
      " 1   actor_id       952 non-null    float64\n",
      " 2   actor_name     952 non-null    object \n",
      " 3   director_name  494 non-null    object \n",
      "dtypes: float64(1), int64(1), object(2)\n",
      "memory usage: 29.9+ KB\n"
     ]
    }
   ],
   "source": [
    "# hay dos filas menos, seguramente estaban duplciadas antes del merge\n",
    "df_actors_merge.info()"
   ]
  },
  {
   "cell_type": "code",
   "execution_count": 14,
   "metadata": {},
   "outputs": [
    {
     "data": {
      "text/html": [
       "<div>\n",
       "<style scoped>\n",
       "    .dataframe tbody tr th:only-of-type {\n",
       "        vertical-align: middle;\n",
       "    }\n",
       "\n",
       "    .dataframe tbody tr th {\n",
       "        vertical-align: top;\n",
       "    }\n",
       "\n",
       "    .dataframe thead th {\n",
       "        text-align: right;\n",
       "    }\n",
       "</style>\n",
       "<table border=\"1\" class=\"dataframe\">\n",
       "  <thead>\n",
       "    <tr style=\"text-align: right;\">\n",
       "      <th></th>\n",
       "      <th>movie_id</th>\n",
       "      <th>actor_id</th>\n",
       "      <th>actor_name</th>\n",
       "      <th>director_name</th>\n",
       "    </tr>\n",
       "  </thead>\n",
       "  <tbody>\n",
       "    <tr>\n",
       "      <th>0</th>\n",
       "      <td>862</td>\n",
       "      <td>31.0</td>\n",
       "      <td>Tom Hanks</td>\n",
       "      <td>Tom Hanks</td>\n",
       "    </tr>\n",
       "    <tr>\n",
       "      <th>1</th>\n",
       "      <td>11860</td>\n",
       "      <td>3.0</td>\n",
       "      <td>Harrison Ford</td>\n",
       "      <td>NaN</td>\n",
       "    </tr>\n",
       "    <tr>\n",
       "      <th>2</th>\n",
       "      <td>4584</td>\n",
       "      <td>7056.0</td>\n",
       "      <td>Emma Thompson</td>\n",
       "      <td>NaN</td>\n",
       "    </tr>\n",
       "    <tr>\n",
       "      <th>3</th>\n",
       "      <td>63</td>\n",
       "      <td>287.0</td>\n",
       "      <td>Brad Pitt</td>\n",
       "      <td>NaN</td>\n",
       "    </tr>\n",
       "    <tr>\n",
       "      <th>4</th>\n",
       "      <td>47018</td>\n",
       "      <td>7056.0</td>\n",
       "      <td>Emma Thompson</td>\n",
       "      <td>NaN</td>\n",
       "    </tr>\n",
       "    <tr>\n",
       "      <th>5</th>\n",
       "      <td>807</td>\n",
       "      <td>287.0</td>\n",
       "      <td>Brad Pitt</td>\n",
       "      <td>NaN</td>\n",
       "    </tr>\n",
       "    <tr>\n",
       "      <th>6</th>\n",
       "      <td>11448</td>\n",
       "      <td>1243.0</td>\n",
       "      <td>Woody Allen</td>\n",
       "      <td>Woody Allen</td>\n",
       "    </tr>\n",
       "    <tr>\n",
       "      <th>7</th>\n",
       "      <td>17182</td>\n",
       "      <td>35.0</td>\n",
       "      <td>Sally Field</td>\n",
       "      <td>Sally Field</td>\n",
       "    </tr>\n",
       "    <tr>\n",
       "      <th>8</th>\n",
       "      <td>19760</td>\n",
       "      <td>18277.0</td>\n",
       "      <td>Sandra Bullock</td>\n",
       "      <td>NaN</td>\n",
       "    </tr>\n",
       "    <tr>\n",
       "      <th>9</th>\n",
       "      <td>2086</td>\n",
       "      <td>85.0</td>\n",
       "      <td>Johnny Depp</td>\n",
       "      <td>Johnny Depp</td>\n",
       "    </tr>\n",
       "  </tbody>\n",
       "</table>\n",
       "</div>"
      ],
      "text/plain": [
       "   movie_id  actor_id      actor_name director_name\n",
       "0       862      31.0       Tom Hanks     Tom Hanks\n",
       "1     11860       3.0   Harrison Ford           NaN\n",
       "2      4584    7056.0   Emma Thompson           NaN\n",
       "3        63     287.0       Brad Pitt           NaN\n",
       "4     47018    7056.0   Emma Thompson           NaN\n",
       "5       807     287.0       Brad Pitt           NaN\n",
       "6     11448    1243.0     Woody Allen   Woody Allen\n",
       "7     17182      35.0     Sally Field   Sally Field\n",
       "8     19760   18277.0  Sandra Bullock           NaN\n",
       "9      2086      85.0     Johnny Depp   Johnny Depp"
      ]
     },
     "execution_count": 14,
     "metadata": {},
     "output_type": "execute_result"
    }
   ],
   "source": [
    "df_actors_merge.head(10)"
   ]
  },
  {
   "cell_type": "code",
   "execution_count": 15,
   "metadata": {},
   "outputs": [],
   "source": [
    "# cambio nombre de la columna director_name a is_director. True los que tienen nombre (esos son directores) y False los que estan en NaN\n",
    "df_actors_def = df_actors_merge.rename(columns={'director_name':'is_director'})"
   ]
  },
  {
   "cell_type": "code",
   "execution_count": 16,
   "metadata": {},
   "outputs": [
    {
     "data": {
      "text/html": [
       "<div>\n",
       "<style scoped>\n",
       "    .dataframe tbody tr th:only-of-type {\n",
       "        vertical-align: middle;\n",
       "    }\n",
       "\n",
       "    .dataframe tbody tr th {\n",
       "        vertical-align: top;\n",
       "    }\n",
       "\n",
       "    .dataframe thead th {\n",
       "        text-align: right;\n",
       "    }\n",
       "</style>\n",
       "<table border=\"1\" class=\"dataframe\">\n",
       "  <thead>\n",
       "    <tr style=\"text-align: right;\">\n",
       "      <th></th>\n",
       "      <th>movie_id</th>\n",
       "      <th>actor_id</th>\n",
       "      <th>actor_name</th>\n",
       "      <th>is_director</th>\n",
       "    </tr>\n",
       "  </thead>\n",
       "  <tbody>\n",
       "    <tr>\n",
       "      <th>0</th>\n",
       "      <td>862</td>\n",
       "      <td>31.0</td>\n",
       "      <td>Tom Hanks</td>\n",
       "      <td>Tom Hanks</td>\n",
       "    </tr>\n",
       "    <tr>\n",
       "      <th>1</th>\n",
       "      <td>11860</td>\n",
       "      <td>3.0</td>\n",
       "      <td>Harrison Ford</td>\n",
       "      <td>NaN</td>\n",
       "    </tr>\n",
       "    <tr>\n",
       "      <th>2</th>\n",
       "      <td>4584</td>\n",
       "      <td>7056.0</td>\n",
       "      <td>Emma Thompson</td>\n",
       "      <td>NaN</td>\n",
       "    </tr>\n",
       "    <tr>\n",
       "      <th>3</th>\n",
       "      <td>63</td>\n",
       "      <td>287.0</td>\n",
       "      <td>Brad Pitt</td>\n",
       "      <td>NaN</td>\n",
       "    </tr>\n",
       "    <tr>\n",
       "      <th>4</th>\n",
       "      <td>47018</td>\n",
       "      <td>7056.0</td>\n",
       "      <td>Emma Thompson</td>\n",
       "      <td>NaN</td>\n",
       "    </tr>\n",
       "    <tr>\n",
       "      <th>5</th>\n",
       "      <td>807</td>\n",
       "      <td>287.0</td>\n",
       "      <td>Brad Pitt</td>\n",
       "      <td>NaN</td>\n",
       "    </tr>\n",
       "    <tr>\n",
       "      <th>6</th>\n",
       "      <td>11448</td>\n",
       "      <td>1243.0</td>\n",
       "      <td>Woody Allen</td>\n",
       "      <td>Woody Allen</td>\n",
       "    </tr>\n",
       "    <tr>\n",
       "      <th>7</th>\n",
       "      <td>17182</td>\n",
       "      <td>35.0</td>\n",
       "      <td>Sally Field</td>\n",
       "      <td>Sally Field</td>\n",
       "    </tr>\n",
       "    <tr>\n",
       "      <th>8</th>\n",
       "      <td>19760</td>\n",
       "      <td>18277.0</td>\n",
       "      <td>Sandra Bullock</td>\n",
       "      <td>NaN</td>\n",
       "    </tr>\n",
       "    <tr>\n",
       "      <th>9</th>\n",
       "      <td>2086</td>\n",
       "      <td>85.0</td>\n",
       "      <td>Johnny Depp</td>\n",
       "      <td>Johnny Depp</td>\n",
       "    </tr>\n",
       "  </tbody>\n",
       "</table>\n",
       "</div>"
      ],
      "text/plain": [
       "   movie_id  actor_id      actor_name  is_director\n",
       "0       862      31.0       Tom Hanks    Tom Hanks\n",
       "1     11860       3.0   Harrison Ford          NaN\n",
       "2      4584    7056.0   Emma Thompson          NaN\n",
       "3        63     287.0       Brad Pitt          NaN\n",
       "4     47018    7056.0   Emma Thompson          NaN\n",
       "5       807     287.0       Brad Pitt          NaN\n",
       "6     11448    1243.0     Woody Allen  Woody Allen\n",
       "7     17182      35.0     Sally Field  Sally Field\n",
       "8     19760   18277.0  Sandra Bullock          NaN\n",
       "9      2086      85.0     Johnny Depp  Johnny Depp"
      ]
     },
     "execution_count": 16,
     "metadata": {},
     "output_type": "execute_result"
    }
   ],
   "source": [
    "df_actors_def.head(10)"
   ]
  },
  {
   "cell_type": "code",
   "execution_count": 17,
   "metadata": {},
   "outputs": [],
   "source": [
    "# reemplazo True los que tienen nombre (esos son directores) y False los que estan en NaN\n",
    "# Replace Values Using np.where()\n",
    "# The np.where() function from the NumPy library is another powerful tool for conditionally replacing values.\n",
    "df_actors_def['is_director'] = np.where(df_actors_def['is_director'].isna() , False, True)"
   ]
  },
  {
   "cell_type": "code",
   "execution_count": 18,
   "metadata": {},
   "outputs": [
    {
     "data": {
      "text/html": [
       "<div>\n",
       "<style scoped>\n",
       "    .dataframe tbody tr th:only-of-type {\n",
       "        vertical-align: middle;\n",
       "    }\n",
       "\n",
       "    .dataframe tbody tr th {\n",
       "        vertical-align: top;\n",
       "    }\n",
       "\n",
       "    .dataframe thead th {\n",
       "        text-align: right;\n",
       "    }\n",
       "</style>\n",
       "<table border=\"1\" class=\"dataframe\">\n",
       "  <thead>\n",
       "    <tr style=\"text-align: right;\">\n",
       "      <th></th>\n",
       "      <th>movie_id</th>\n",
       "      <th>actor_id</th>\n",
       "      <th>actor_name</th>\n",
       "      <th>is_director</th>\n",
       "    </tr>\n",
       "  </thead>\n",
       "  <tbody>\n",
       "    <tr>\n",
       "      <th>0</th>\n",
       "      <td>862</td>\n",
       "      <td>31.0</td>\n",
       "      <td>Tom Hanks</td>\n",
       "      <td>True</td>\n",
       "    </tr>\n",
       "    <tr>\n",
       "      <th>1</th>\n",
       "      <td>11860</td>\n",
       "      <td>3.0</td>\n",
       "      <td>Harrison Ford</td>\n",
       "      <td>False</td>\n",
       "    </tr>\n",
       "    <tr>\n",
       "      <th>2</th>\n",
       "      <td>4584</td>\n",
       "      <td>7056.0</td>\n",
       "      <td>Emma Thompson</td>\n",
       "      <td>False</td>\n",
       "    </tr>\n",
       "    <tr>\n",
       "      <th>3</th>\n",
       "      <td>63</td>\n",
       "      <td>287.0</td>\n",
       "      <td>Brad Pitt</td>\n",
       "      <td>False</td>\n",
       "    </tr>\n",
       "    <tr>\n",
       "      <th>4</th>\n",
       "      <td>47018</td>\n",
       "      <td>7056.0</td>\n",
       "      <td>Emma Thompson</td>\n",
       "      <td>False</td>\n",
       "    </tr>\n",
       "    <tr>\n",
       "      <th>5</th>\n",
       "      <td>807</td>\n",
       "      <td>287.0</td>\n",
       "      <td>Brad Pitt</td>\n",
       "      <td>False</td>\n",
       "    </tr>\n",
       "    <tr>\n",
       "      <th>6</th>\n",
       "      <td>11448</td>\n",
       "      <td>1243.0</td>\n",
       "      <td>Woody Allen</td>\n",
       "      <td>True</td>\n",
       "    </tr>\n",
       "    <tr>\n",
       "      <th>7</th>\n",
       "      <td>17182</td>\n",
       "      <td>35.0</td>\n",
       "      <td>Sally Field</td>\n",
       "      <td>True</td>\n",
       "    </tr>\n",
       "    <tr>\n",
       "      <th>8</th>\n",
       "      <td>19760</td>\n",
       "      <td>18277.0</td>\n",
       "      <td>Sandra Bullock</td>\n",
       "      <td>False</td>\n",
       "    </tr>\n",
       "    <tr>\n",
       "      <th>9</th>\n",
       "      <td>2086</td>\n",
       "      <td>85.0</td>\n",
       "      <td>Johnny Depp</td>\n",
       "      <td>True</td>\n",
       "    </tr>\n",
       "  </tbody>\n",
       "</table>\n",
       "</div>"
      ],
      "text/plain": [
       "   movie_id  actor_id      actor_name  is_director\n",
       "0       862      31.0       Tom Hanks         True\n",
       "1     11860       3.0   Harrison Ford        False\n",
       "2      4584    7056.0   Emma Thompson        False\n",
       "3        63     287.0       Brad Pitt        False\n",
       "4     47018    7056.0   Emma Thompson        False\n",
       "5       807     287.0       Brad Pitt        False\n",
       "6     11448    1243.0     Woody Allen         True\n",
       "7     17182      35.0     Sally Field         True\n",
       "8     19760   18277.0  Sandra Bullock        False\n",
       "9      2086      85.0     Johnny Depp         True"
      ]
     },
     "execution_count": 18,
     "metadata": {},
     "output_type": "execute_result"
    }
   ],
   "source": [
    "df_actors_def.head(10) #listo esta parte"
   ]
  },
  {
   "cell_type": "code",
   "execution_count": 19,
   "metadata": {},
   "outputs": [],
   "source": [
    "# Leo el dataset de movies que preparé para armar el dataset definitivo con los valores que necesito de movies y de actors \n",
    "dfm = pd.read_csv('movies_sin_duplic.csv')"
   ]
  },
  {
   "cell_type": "code",
   "execution_count": 20,
   "metadata": {},
   "outputs": [
    {
     "name": "stdout",
     "output_type": "stream",
     "text": [
      "<class 'pandas.core.frame.DataFrame'>\n",
      "RangeIndex: 45345 entries, 0 to 45344\n",
      "Data columns (total 10 columns):\n",
      " #   Column        Non-Null Count  Dtype  \n",
      "---  ------        --------------  -----  \n",
      " 0   id            45345 non-null  int64  \n",
      " 1   title         45345 non-null  object \n",
      " 2   release_date  45345 non-null  object \n",
      " 3   release_year  45345 non-null  int64  \n",
      " 4   popularity    45345 non-null  float64\n",
      " 5   vote_average  45345 non-null  float64\n",
      " 6   vote_count    45345 non-null  float64\n",
      " 7   budget        45345 non-null  float64\n",
      " 8   revenue       45345 non-null  float64\n",
      " 9   return        45345 non-null  float64\n",
      "dtypes: float64(6), int64(2), object(2)\n",
      "memory usage: 3.5+ MB\n"
     ]
    }
   ],
   "source": [
    "dfm.info() "
   ]
  },
  {
   "cell_type": "code",
   "execution_count": 21,
   "metadata": {},
   "outputs": [],
   "source": [
    "# selecciono las columnas que quiero del dataset id y return (guardo title para tener idea de que peli es)\n",
    "df_movies = dfm[['id', 'title', 'return']].copy()"
   ]
  },
  {
   "cell_type": "code",
   "execution_count": 22,
   "metadata": {},
   "outputs": [],
   "source": [
    "# inner join entre los actores y las peliculas para guardar los datos que necesito de ambas. \n",
    "# revisar que no haya duplicados.\n",
    "movies_ds_actors = pd.merge( df_actors_def, df_movies, how='inner', left_on='movie_id', right_on='id')"
   ]
  },
  {
   "cell_type": "code",
   "execution_count": 23,
   "metadata": {},
   "outputs": [
    {
     "name": "stdout",
     "output_type": "stream",
     "text": [
      "<class 'pandas.core.frame.DataFrame'>\n",
      "RangeIndex: 952 entries, 0 to 951\n",
      "Data columns (total 7 columns):\n",
      " #   Column       Non-Null Count  Dtype  \n",
      "---  ------       --------------  -----  \n",
      " 0   movie_id     952 non-null    int64  \n",
      " 1   actor_id     952 non-null    float64\n",
      " 2   actor_name   952 non-null    object \n",
      " 3   is_director  952 non-null    bool   \n",
      " 4   id           952 non-null    int64  \n",
      " 5   title        952 non-null    object \n",
      " 6   return       952 non-null    float64\n",
      "dtypes: bool(1), float64(2), int64(2), object(2)\n",
      "memory usage: 45.7+ KB\n"
     ]
    }
   ],
   "source": [
    "movies_ds_actors.info()"
   ]
  },
  {
   "cell_type": "code",
   "execution_count": 24,
   "metadata": {},
   "outputs": [],
   "source": [
    "# elimino la columna id, es la misma que movie_id\n",
    "movies_ds_actors.drop(['id'], axis=1, inplace=True)"
   ]
  },
  {
   "cell_type": "code",
   "execution_count": 113,
   "metadata": {},
   "outputs": [],
   "source": [
    "# guardo esta version reducida para probar \n",
    "movies_ds_actors.to_csv(\"movies_ds_actors ver1.csv\" , index=False)"
   ]
  },
  {
   "cell_type": "code",
   "execution_count": 25,
   "metadata": {},
   "outputs": [
    {
     "data": {
      "text/html": [
       "<div>\n",
       "<style scoped>\n",
       "    .dataframe tbody tr th:only-of-type {\n",
       "        vertical-align: middle;\n",
       "    }\n",
       "\n",
       "    .dataframe tbody tr th {\n",
       "        vertical-align: top;\n",
       "    }\n",
       "\n",
       "    .dataframe thead th {\n",
       "        text-align: right;\n",
       "    }\n",
       "</style>\n",
       "<table border=\"1\" class=\"dataframe\">\n",
       "  <thead>\n",
       "    <tr style=\"text-align: right;\">\n",
       "      <th></th>\n",
       "      <th>movie_id</th>\n",
       "      <th>actor_id</th>\n",
       "      <th>actor_name</th>\n",
       "      <th>is_director</th>\n",
       "      <th>title</th>\n",
       "      <th>return</th>\n",
       "    </tr>\n",
       "  </thead>\n",
       "  <tbody>\n",
       "    <tr>\n",
       "      <th>0</th>\n",
       "      <td>862</td>\n",
       "      <td>31.0</td>\n",
       "      <td>Tom Hanks</td>\n",
       "      <td>True</td>\n",
       "      <td>Toy Story</td>\n",
       "      <td>12.451801</td>\n",
       "    </tr>\n",
       "    <tr>\n",
       "      <th>1</th>\n",
       "      <td>11860</td>\n",
       "      <td>3.0</td>\n",
       "      <td>Harrison Ford</td>\n",
       "      <td>False</td>\n",
       "      <td>Sabrina</td>\n",
       "      <td>0.000000</td>\n",
       "    </tr>\n",
       "    <tr>\n",
       "      <th>2</th>\n",
       "      <td>4584</td>\n",
       "      <td>7056.0</td>\n",
       "      <td>Emma Thompson</td>\n",
       "      <td>False</td>\n",
       "      <td>Sense and Sensibility</td>\n",
       "      <td>8.181818</td>\n",
       "    </tr>\n",
       "    <tr>\n",
       "      <th>3</th>\n",
       "      <td>63</td>\n",
       "      <td>287.0</td>\n",
       "      <td>Brad Pitt</td>\n",
       "      <td>False</td>\n",
       "      <td>Twelve Monkeys</td>\n",
       "      <td>5.723390</td>\n",
       "    </tr>\n",
       "    <tr>\n",
       "      <th>4</th>\n",
       "      <td>47018</td>\n",
       "      <td>7056.0</td>\n",
       "      <td>Emma Thompson</td>\n",
       "      <td>False</td>\n",
       "      <td>Carrington</td>\n",
       "      <td>0.000000</td>\n",
       "    </tr>\n",
       "    <tr>\n",
       "      <th>5</th>\n",
       "      <td>807</td>\n",
       "      <td>287.0</td>\n",
       "      <td>Brad Pitt</td>\n",
       "      <td>False</td>\n",
       "      <td>Se7en</td>\n",
       "      <td>9.918541</td>\n",
       "    </tr>\n",
       "    <tr>\n",
       "      <th>6</th>\n",
       "      <td>11448</td>\n",
       "      <td>1243.0</td>\n",
       "      <td>Woody Allen</td>\n",
       "      <td>True</td>\n",
       "      <td>Mighty Aphrodite</td>\n",
       "      <td>0.446667</td>\n",
       "    </tr>\n",
       "    <tr>\n",
       "      <th>7</th>\n",
       "      <td>17182</td>\n",
       "      <td>35.0</td>\n",
       "      <td>Sally Field</td>\n",
       "      <td>True</td>\n",
       "      <td>Eye for an Eye</td>\n",
       "      <td>0.000000</td>\n",
       "    </tr>\n",
       "    <tr>\n",
       "      <th>8</th>\n",
       "      <td>19760</td>\n",
       "      <td>18277.0</td>\n",
       "      <td>Sandra Bullock</td>\n",
       "      <td>False</td>\n",
       "      <td>Two If by Sea</td>\n",
       "      <td>0.000000</td>\n",
       "    </tr>\n",
       "    <tr>\n",
       "      <th>9</th>\n",
       "      <td>2086</td>\n",
       "      <td>85.0</td>\n",
       "      <td>Johnny Depp</td>\n",
       "      <td>True</td>\n",
       "      <td>Nick of Time</td>\n",
       "      <td>1.000732</td>\n",
       "    </tr>\n",
       "  </tbody>\n",
       "</table>\n",
       "</div>"
      ],
      "text/plain": [
       "   movie_id  actor_id      actor_name  is_director                  title  \\\n",
       "0       862      31.0       Tom Hanks         True              Toy Story   \n",
       "1     11860       3.0   Harrison Ford        False                Sabrina   \n",
       "2      4584    7056.0   Emma Thompson        False  Sense and Sensibility   \n",
       "3        63     287.0       Brad Pitt        False         Twelve Monkeys   \n",
       "4     47018    7056.0   Emma Thompson        False             Carrington   \n",
       "5       807     287.0       Brad Pitt        False                  Se7en   \n",
       "6     11448    1243.0     Woody Allen         True       Mighty Aphrodite   \n",
       "7     17182      35.0     Sally Field         True         Eye for an Eye   \n",
       "8     19760   18277.0  Sandra Bullock        False          Two If by Sea   \n",
       "9      2086      85.0     Johnny Depp         True           Nick of Time   \n",
       "\n",
       "      return  \n",
       "0  12.451801  \n",
       "1   0.000000  \n",
       "2   8.181818  \n",
       "3   5.723390  \n",
       "4   0.000000  \n",
       "5   9.918541  \n",
       "6   0.446667  \n",
       "7   0.000000  \n",
       "8   0.000000  \n",
       "9   1.000732  "
      ]
     },
     "execution_count": 25,
     "metadata": {},
     "output_type": "execute_result"
    }
   ],
   "source": [
    "# reviso proque quedo muy pequeña\n",
    "movies_ds_actors.head(10)"
   ]
  },
  {
   "cell_type": "code",
   "execution_count": 27,
   "metadata": {},
   "outputs": [
    {
     "data": {
      "text/plain": [
       "array(['Tom Hanks', 'Woody Allen', 'Sally Field', 'Johnny Depp',\n",
       "       'Clint Eastwood', 'Jodie Foster', 'Robert Redford',\n",
       "       'Denzel Washington', 'Keanu Reeves'], dtype=object)"
      ]
     },
     "execution_count": 27,
     "metadata": {},
     "output_type": "execute_result"
    }
   ],
   "source": [
    "# veo cuáles son directores\n",
    "movies_ds_actors[movies_ds_actors['is_director'] == True]['actor_name'].unique()"
   ]
  },
  {
   "cell_type": "code",
   "execution_count": 28,
   "metadata": {},
   "outputs": [
    {
     "data": {
      "text/plain": [
       "array(['Harrison Ford', 'Emma Thompson', 'Brad Pitt', 'Sandra Bullock',\n",
       "       'Meryl Streep', 'Will Smith', 'Leonardo DiCaprio', 'Jessica Lange',\n",
       "       'Tom Cruise', 'Emma Watson', 'Emma Stone'], dtype=object)"
      ]
     },
     "execution_count": 28,
     "metadata": {},
     "output_type": "execute_result"
    }
   ],
   "source": [
    "# veo cuáles no son directores\n",
    "movies_ds_actors[movies_ds_actors['is_director'] == False]['actor_name'].unique()"
   ]
  },
  {
   "cell_type": "code",
   "execution_count": 62,
   "metadata": {},
   "outputs": [
    {
     "name": "stdout",
     "output_type": "stream",
     "text": [
      "El actor Meryl Streep ha participado de 66 películas, consiguió un retorno de 108.24862345926158 con un promedio de 1.6401306584736604 por película.\n"
     ]
    }
   ],
   "source": [
    "actor = 'Meryl Streep'\n",
    "\n",
    "actor_low = actor.lower()\n",
    "\n",
    "# reviso si el actor es tambien director\n",
    "# df_actors.loc['is_director'].values[0] sera True\n",
    "actor_director  = movies_ds_actors.loc[movies_ds_actors['actor_name'].str.lower() == actor_low, 'is_director'].values[0]\n",
    "\n",
    "# si fue director en alguna pelicula aviso y no muestra los datos\n",
    "if actor_director:\n",
    "    \n",
    "    print(f'El actor {actor} fue también director de alguna película - No se muestran datos')\n",
    "\n",
    "else:\n",
    "    # sumo el retorno de las peliculas en las que actuó, cuento la cantidad de peliculas en las que actuó y calculo el promedio del retorno\n",
    "    # buscar solo una vez y armar un nuevo dataset con eso \n",
    "\n",
    "    movies_ds_one_actor = movies_ds_actors.loc[movies_ds_actors['actor_name'].str.lower() == actor_low]\n",
    "\n",
    "    ret_sum =  movies_ds_one_actor['return'].sum() \n",
    "    ret_count = movies_ds_one_actor['return'].count() \n",
    "    ret_avg = ret_sum / ret_count\n",
    "\n",
    "    print(f\"El actor {actor} ha participado de {ret_count} películas, consiguió un retorno de {ret_sum} con un promedio de {ret_avg} por película.\")\n"
   ]
  },
  {
   "cell_type": "markdown",
   "metadata": {},
   "source": [
    "</br>"
   ]
  },
  {
   "cell_type": "markdown",
   "metadata": {},
   "source": [
    "### get_director"
   ]
  },
  {
   "cell_type": "markdown",
   "metadata": {},
   "source": [
    "Se ingresa el nombre de un director que se encuentre dentro de un dataset debiendo devolver el éxito del mismo medido a través del retorno. </br>\n",
    "Además, deberá devolver el nombre de cada película con la fecha de lanzamiento, retorno individual, costo y ganancia de la misma. </br>\n",
    "\n",
    "- id de la película \n",
    " - id del director (id de la columna crew de la tabla credits donde 'job': 'Director')\n",
    " - nombre del director (name de la columna crew de la tabla credits donde 'job': 'Director') \n",
    " - title\n",
    " - release_date\n",
    " - budget\n",
    " - revenue\n",
    " - return\n",
    "</br>\n",
    "En la notebook de Transformaciones desanidé la columna crew del dataset credits para obtener los nombres de los directores y los ids de las películas donde trabajaron.</br>"
   ]
  },
  {
   "cell_type": "code",
   "execution_count": 32,
   "metadata": {},
   "outputs": [
    {
     "name": "stdout",
     "output_type": "stream",
     "text": [
      "<class 'pandas.core.frame.DataFrame'>\n",
      "RangeIndex: 48957 entries, 0 to 48956\n",
      "Data columns (total 3 columns):\n",
      " #   Column         Non-Null Count  Dtype \n",
      "---  ------         --------------  ----- \n",
      " 0   movie_id       48957 non-null  int64 \n",
      " 1   director_id    48957 non-null  int64 \n",
      " 2   director_name  48957 non-null  object\n",
      "dtypes: int64(2), object(1)\n",
      "memory usage: 1.1+ MB\n"
     ]
    }
   ],
   "source": [
    "# Leo el dataset que tienen los nombres de los directores o directoras y las peliculas que dirigieron.\n",
    "# Hay una fila por cada director y pelicula\n",
    "dfd = pd.read_csv('credits_directors.csv')\n",
    "dfd.columns = ['movie_id', 'director_id', 'director_name'] # renombro las columnas\n",
    "dfd.info()"
   ]
  },
  {
   "cell_type": "code",
   "execution_count": 33,
   "metadata": {},
   "outputs": [],
   "source": [
    "# Leo el dataset de movies que preparé para armar el dataset definitivo con los valores que necesito de movies \n",
    "dfm = pd.read_csv('movies_sin_duplic.csv')"
   ]
  },
  {
   "cell_type": "code",
   "execution_count": 34,
   "metadata": {},
   "outputs": [
    {
     "name": "stdout",
     "output_type": "stream",
     "text": [
      "<class 'pandas.core.frame.DataFrame'>\n",
      "RangeIndex: 45345 entries, 0 to 45344\n",
      "Data columns (total 10 columns):\n",
      " #   Column        Non-Null Count  Dtype  \n",
      "---  ------        --------------  -----  \n",
      " 0   id            45345 non-null  int64  \n",
      " 1   title         45345 non-null  object \n",
      " 2   release_date  45345 non-null  object \n",
      " 3   release_year  45345 non-null  int64  \n",
      " 4   popularity    45345 non-null  float64\n",
      " 5   vote_average  45345 non-null  float64\n",
      " 6   vote_count    45345 non-null  float64\n",
      " 7   budget        45345 non-null  float64\n",
      " 8   revenue       45345 non-null  float64\n",
      " 9   return        45345 non-null  float64\n",
      "dtypes: float64(6), int64(2), object(2)\n",
      "memory usage: 3.5+ MB\n"
     ]
    }
   ],
   "source": [
    "dfm.info() "
   ]
  },
  {
   "cell_type": "code",
   "execution_count": 43,
   "metadata": {},
   "outputs": [],
   "source": [
    "# selecciono las columnas que quiero del dataset id y return (guardo title para tener idea de que peli es)\n",
    "df_movies = dfm[['id', 'title', 'release_date', 'budget', 'revenue', 'return']].copy()"
   ]
  },
  {
   "cell_type": "code",
   "execution_count": 44,
   "metadata": {},
   "outputs": [
    {
     "name": "stdout",
     "output_type": "stream",
     "text": [
      "<class 'pandas.core.frame.DataFrame'>\n",
      "RangeIndex: 45345 entries, 0 to 45344\n",
      "Data columns (total 6 columns):\n",
      " #   Column        Non-Null Count  Dtype  \n",
      "---  ------        --------------  -----  \n",
      " 0   id            45345 non-null  int64  \n",
      " 1   title         45345 non-null  object \n",
      " 2   release_date  45345 non-null  object \n",
      " 3   budget        45345 non-null  float64\n",
      " 4   revenue       45345 non-null  float64\n",
      " 5   return        45345 non-null  float64\n",
      "dtypes: float64(3), int64(1), object(2)\n",
      "memory usage: 2.1+ MB\n"
     ]
    }
   ],
   "source": [
    "df_movies.info()"
   ]
  },
  {
   "cell_type": "code",
   "execution_count": 50,
   "metadata": {},
   "outputs": [],
   "source": [
    "# inner join entre los actores y las peliculas para guardar los datos que necesito de ambas. \n",
    "# revisar que no haya duplicados.\n",
    "movies_dir = pd.merge( dfd, df_movies, how='inner', left_on='movie_id', right_on='id')"
   ]
  },
  {
   "cell_type": "code",
   "execution_count": 51,
   "metadata": {},
   "outputs": [
    {
     "name": "stdout",
     "output_type": "stream",
     "text": [
      "<class 'pandas.core.frame.DataFrame'>\n",
      "RangeIndex: 48957 entries, 0 to 48956\n",
      "Data columns (total 9 columns):\n",
      " #   Column         Non-Null Count  Dtype  \n",
      "---  ------         --------------  -----  \n",
      " 0   movie_id       48957 non-null  int64  \n",
      " 1   director_id    48957 non-null  int64  \n",
      " 2   director_name  48957 non-null  object \n",
      " 3   id             48957 non-null  int64  \n",
      " 4   title          48957 non-null  object \n",
      " 5   release_date   48957 non-null  object \n",
      " 6   budget         48957 non-null  float64\n",
      " 7   revenue        48957 non-null  float64\n",
      " 8   return         48957 non-null  float64\n",
      "dtypes: float64(3), int64(3), object(3)\n",
      "memory usage: 3.4+ MB\n"
     ]
    }
   ],
   "source": [
    "movies_dir.info()"
   ]
  },
  {
   "cell_type": "code",
   "execution_count": 52,
   "metadata": {},
   "outputs": [],
   "source": [
    "# elimino la columna id, es la misma que movie_id\n",
    "movies_dir.drop(['id'], axis=1, inplace=True)"
   ]
  },
  {
   "cell_type": "code",
   "execution_count": 54,
   "metadata": {},
   "outputs": [
    {
     "data": {
      "text/plain": [
       "director_name\n",
       "John Ford               68\n",
       "Michael Curtiz          65\n",
       "Werner Herzog           55\n",
       "Alfred Hitchcock        53\n",
       "Georges Méliès          51\n",
       "                        ..\n",
       "Colin Webb               1\n",
       "Michael Henry Wilson     1\n",
       "Bob Richardson           1\n",
       "Jim Sonzero              1\n",
       "John Marshall            1\n",
       "Name: count, Length: 19712, dtype: int64"
      ]
     },
     "execution_count": 54,
     "metadata": {},
     "output_type": "execute_result"
    }
   ],
   "source": [
    "# veo cuantas peliculas tienen los directores. Solo seleccionaré algunos para que el dataset no sea tan grande\n",
    "movies_dir[\"director_name\"].value_counts()"
   ]
  },
  {
   "cell_type": "code",
   "execution_count": 55,
   "metadata": {},
   "outputs": [
    {
     "data": {
      "text/html": [
       "<div>\n",
       "<style scoped>\n",
       "    .dataframe tbody tr th:only-of-type {\n",
       "        vertical-align: middle;\n",
       "    }\n",
       "\n",
       "    .dataframe tbody tr th {\n",
       "        vertical-align: top;\n",
       "    }\n",
       "\n",
       "    .dataframe thead th {\n",
       "        text-align: right;\n",
       "    }\n",
       "</style>\n",
       "<table border=\"1\" class=\"dataframe\">\n",
       "  <thead>\n",
       "    <tr style=\"text-align: right;\">\n",
       "      <th></th>\n",
       "      <th>movie_id</th>\n",
       "      <th>director_id</th>\n",
       "      <th>director_name</th>\n",
       "      <th>title</th>\n",
       "      <th>release_date</th>\n",
       "      <th>budget</th>\n",
       "      <th>revenue</th>\n",
       "      <th>return</th>\n",
       "    </tr>\n",
       "  </thead>\n",
       "  <tbody>\n",
       "    <tr>\n",
       "      <th>0</th>\n",
       "      <td>862</td>\n",
       "      <td>7879</td>\n",
       "      <td>John Lasseter</td>\n",
       "      <td>Toy Story</td>\n",
       "      <td>1995-10-30</td>\n",
       "      <td>30000000.0</td>\n",
       "      <td>373554033.0</td>\n",
       "      <td>12.451801</td>\n",
       "    </tr>\n",
       "    <tr>\n",
       "      <th>1</th>\n",
       "      <td>8844</td>\n",
       "      <td>4945</td>\n",
       "      <td>Joe Johnston</td>\n",
       "      <td>Jumanji</td>\n",
       "      <td>1995-12-15</td>\n",
       "      <td>65000000.0</td>\n",
       "      <td>262797249.0</td>\n",
       "      <td>4.043035</td>\n",
       "    </tr>\n",
       "    <tr>\n",
       "      <th>2</th>\n",
       "      <td>15602</td>\n",
       "      <td>26502</td>\n",
       "      <td>Howard Deutch</td>\n",
       "      <td>Grumpier Old Men</td>\n",
       "      <td>1995-12-22</td>\n",
       "      <td>0.0</td>\n",
       "      <td>0.0</td>\n",
       "      <td>0.000000</td>\n",
       "    </tr>\n",
       "    <tr>\n",
       "      <th>5</th>\n",
       "      <td>949</td>\n",
       "      <td>638</td>\n",
       "      <td>Michael Mann</td>\n",
       "      <td>Heat</td>\n",
       "      <td>1995-12-15</td>\n",
       "      <td>60000000.0</td>\n",
       "      <td>187436818.0</td>\n",
       "      <td>3.123947</td>\n",
       "    </tr>\n",
       "    <tr>\n",
       "      <th>6</th>\n",
       "      <td>11860</td>\n",
       "      <td>2226</td>\n",
       "      <td>Sydney Pollack</td>\n",
       "      <td>Sabrina</td>\n",
       "      <td>1995-12-15</td>\n",
       "      <td>58000000.0</td>\n",
       "      <td>0.0</td>\n",
       "      <td>0.000000</td>\n",
       "    </tr>\n",
       "    <tr>\n",
       "      <th>...</th>\n",
       "      <td>...</td>\n",
       "      <td>...</td>\n",
       "      <td>...</td>\n",
       "      <td>...</td>\n",
       "      <td>...</td>\n",
       "      <td>...</td>\n",
       "      <td>...</td>\n",
       "      <td>...</td>\n",
       "    </tr>\n",
       "    <tr>\n",
       "      <th>48946</th>\n",
       "      <td>67179</td>\n",
       "      <td>24279</td>\n",
       "      <td>Paolo Taviani</td>\n",
       "      <td>St. Michael Had a Rooster</td>\n",
       "      <td>1972-01-01</td>\n",
       "      <td>0.0</td>\n",
       "      <td>0.0</td>\n",
       "      <td>0.000000</td>\n",
       "    </tr>\n",
       "    <tr>\n",
       "      <th>48947</th>\n",
       "      <td>67179</td>\n",
       "      <td>24281</td>\n",
       "      <td>Vittorio Taviani</td>\n",
       "      <td>St. Michael Had a Rooster</td>\n",
       "      <td>1972-01-01</td>\n",
       "      <td>0.0</td>\n",
       "      <td>0.0</td>\n",
       "      <td>0.000000</td>\n",
       "    </tr>\n",
       "    <tr>\n",
       "      <th>48948</th>\n",
       "      <td>84419</td>\n",
       "      <td>89745</td>\n",
       "      <td>Jean Yarbrough</td>\n",
       "      <td>House of Horrors</td>\n",
       "      <td>1946-03-29</td>\n",
       "      <td>0.0</td>\n",
       "      <td>0.0</td>\n",
       "      <td>0.000000</td>\n",
       "    </tr>\n",
       "    <tr>\n",
       "      <th>48952</th>\n",
       "      <td>30840</td>\n",
       "      <td>17784</td>\n",
       "      <td>John Irvin</td>\n",
       "      <td>Robin Hood</td>\n",
       "      <td>1991-05-13</td>\n",
       "      <td>0.0</td>\n",
       "      <td>0.0</td>\n",
       "      <td>0.000000</td>\n",
       "    </tr>\n",
       "    <tr>\n",
       "      <th>48954</th>\n",
       "      <td>67758</td>\n",
       "      <td>67753</td>\n",
       "      <td>Mark L. Lester</td>\n",
       "      <td>Betrayal</td>\n",
       "      <td>2003-08-01</td>\n",
       "      <td>0.0</td>\n",
       "      <td>0.0</td>\n",
       "      <td>0.000000</td>\n",
       "    </tr>\n",
       "  </tbody>\n",
       "</table>\n",
       "<p>16697 rows × 8 columns</p>\n",
       "</div>"
      ],
      "text/plain": [
       "       movie_id  director_id     director_name                      title  \\\n",
       "0           862         7879     John Lasseter                  Toy Story   \n",
       "1          8844         4945      Joe Johnston                    Jumanji   \n",
       "2         15602        26502     Howard Deutch           Grumpier Old Men   \n",
       "5           949          638      Michael Mann                       Heat   \n",
       "6         11860         2226    Sydney Pollack                    Sabrina   \n",
       "...         ...          ...               ...                        ...   \n",
       "48946     67179        24279     Paolo Taviani  St. Michael Had a Rooster   \n",
       "48947     67179        24281  Vittorio Taviani  St. Michael Had a Rooster   \n",
       "48948     84419        89745    Jean Yarbrough           House of Horrors   \n",
       "48952     30840        17784        John Irvin                 Robin Hood   \n",
       "48954     67758        67753    Mark L. Lester                   Betrayal   \n",
       "\n",
       "      release_date      budget      revenue     return  \n",
       "0       1995-10-30  30000000.0  373554033.0  12.451801  \n",
       "1       1995-12-15  65000000.0  262797249.0   4.043035  \n",
       "2       1995-12-22         0.0          0.0   0.000000  \n",
       "5       1995-12-15  60000000.0  187436818.0   3.123947  \n",
       "6       1995-12-15  58000000.0          0.0   0.000000  \n",
       "...            ...         ...          ...        ...  \n",
       "48946   1972-01-01         0.0          0.0   0.000000  \n",
       "48947   1972-01-01         0.0          0.0   0.000000  \n",
       "48948   1946-03-29         0.0          0.0   0.000000  \n",
       "48952   1991-05-13         0.0          0.0   0.000000  \n",
       "48954   2003-08-01         0.0          0.0   0.000000  \n",
       "\n",
       "[16697 rows x 8 columns]"
      ]
     },
     "execution_count": 55,
     "metadata": {},
     "output_type": "execute_result"
    }
   ],
   "source": [
    "# veo los directores que tengan alrededor de 10 peliculas para que cuando liste las peliculas no quede tan extenso\n",
    "movies_dir.groupby(\"director_name\").filter(lambda x: len(x) > 7 & len(x) < 11)"
   ]
  },
  {
   "cell_type": "code",
   "execution_count": 67,
   "metadata": {},
   "outputs": [],
   "source": [
    "# Pero tal vez no son muy conocidos. Selecciono algunos directores conocidos y veré que queda\n",
    "# creo un nuevo dataset (de menor tamaño) para este MVP\n",
    "directors_selected = ['Francis Ford Coppola', 'James Cameron', 'Joel Coen', 'Martin Scorsese', 'Quentin Tarantino', 'Stanley Kubrick', \n",
    "                      'Steven Spielberg', 'Wes Anderson', 'Woody Allen', 'Clint Eastwood', 'Sofia Coppola', 'Natalie Portman', \n",
    "                      'Jodie Foster', 'Martin Scorsese', 'Alfred Hitchcock', 'Greta Gerwig', 'Niki Caro']\n",
    "\n",
    "movies_ds_directors = movies_dir.loc[movies_dir['director_name'].isin(directors_selected)]"
   ]
  },
  {
   "cell_type": "code",
   "execution_count": 68,
   "metadata": {},
   "outputs": [
    {
     "data": {
      "text/plain": [
       "director_name\n",
       "Alfred Hitchcock        53\n",
       "Woody Allen             49\n",
       "Martin Scorsese         41\n",
       "Clint Eastwood          35\n",
       "Steven Spielberg        33\n",
       "Francis Ford Coppola    24\n",
       "Joel Coen               19\n",
       "Stanley Kubrick         16\n",
       "James Cameron           12\n",
       "Quentin Tarantino       11\n",
       "Wes Anderson            10\n",
       "Sofia Coppola            8\n",
       "Niki Caro                5\n",
       "Jodie Foster             4\n",
       "Natalie Portman          2\n",
       "Greta Gerwig             1\n",
       "Name: count, dtype: int64"
      ]
     },
     "execution_count": 68,
     "metadata": {},
     "output_type": "execute_result"
    }
   ],
   "source": [
    "# veo cuantas peliculas filmó cada uno\n",
    "movies_ds_directors[\"director_name\"].value_counts()\n",
    "# Parece que las mujeres que elegí no filmaron mucho (son las 5 últimas)"
   ]
  },
  {
   "cell_type": "code",
   "execution_count": 69,
   "metadata": {},
   "outputs": [],
   "source": [
    "# guardo esta version para probar \n",
    "movies_ds_directors.to_csv(\"movies_ds_directors ver1.csv\" , index=False)"
   ]
  },
  {
   "cell_type": "code",
   "execution_count": 70,
   "metadata": {},
   "outputs": [
    {
     "name": "stdout",
     "output_type": "stream",
     "text": [
      "El director Martin Scorsese consiguió un retorno de 62.0795863602136. Participó en las siguientes películas\n"
     ]
    }
   ],
   "source": [
    "nombre_director = 'Martin Scorsese'\n",
    "\n",
    "director_low = nombre_director.lower()\n",
    "\n",
    "#### buscar solo una vez y armar un nuevo dataset con eso - CORREGIRLO TAMBIEN EN LA DE ACTORES\n",
    "\n",
    "movies_ds_one_dir = movies_ds_directors.loc[movies_ds_directors['director_name'].str.lower() == director_low]\n",
    "\n",
    "# selecciono las columnas que hay que mostrar\n",
    "\n",
    "movies_ds = movies_ds_one_dir[['title', 'release_date', 'budget', 'revenue', 'return']].copy()\n",
    "\n",
    "ret_sum = movies_ds_one_dir['return'].sum() \n",
    "\n",
    "print(f\"El director {nombre_director} consiguió un retorno de {ret_sum}. Participó en las siguientes películas\")\n"
   ]
  },
  {
   "cell_type": "code",
   "execution_count": 71,
   "metadata": {},
   "outputs": [],
   "source": [
    "# creo resultado en formato json (espero que resulte)\n",
    "\n",
    "msg = {'El director': nombre_director,\n",
    "       'consiguió un retorno de': ret_sum,\n",
    "       'Participó en las películas': movies_ds_one_dir.to_dict(orient=\"records\")\n",
    "}"
   ]
  },
  {
   "cell_type": "markdown",
   "metadata": {},
   "source": [
    "</br>"
   ]
  },
  {
   "cell_type": "markdown",
   "metadata": {},
   "source": [
    "### Sistema de recomendación"
   ]
  },
  {
   "cell_type": "markdown",
   "metadata": {},
   "source": [
    "Éste consiste en recomendar películas a los usuarios basándose en películas similares, por lo que se debe encontrar la similitud de puntuación entre esa película y el resto de películas, se ordenarán según el score de similaridad y devolverá una lista de Python con 5 valores, cada uno siendo el string del nombre de las películas con mayor puntaje, en orden descendente. Debe ser deployado como una función adicional de la API anterior y debe llamarse:</br>\n",
    "def **recomendacion( *`titulo`* )**:\n",
    "    Se ingresa el nombre de una película y te recomienda las similares en una lista de 5 valores."
   ]
  },
  {
   "cell_type": "code",
   "execution_count": 4,
   "metadata": {},
   "outputs": [],
   "source": [
    "#from sklearn.feature_extraction.text import TfidfVectorizer\n",
    "#from sklearn.metrics.pairwise import cosine_similarity"
   ]
  },
  {
   "cell_type": "code",
   "execution_count": 2,
   "metadata": {},
   "outputs": [],
   "source": [
    "# Leo el dataset de movies que preparé para armar el dataset definitivo con los valores que necesito de movies \n",
    "dfm = pd.read_csv('movies_sin_duplic.csv')"
   ]
  },
  {
   "cell_type": "code",
   "execution_count": 6,
   "metadata": {},
   "outputs": [],
   "source": [
    "# selecciono las peliculas de idioma original frances, slo el titulo\n",
    "# df_movies = dfm.loc[dfm['original_language'] == 'fr', 'title']\n",
    "# son mas de 2000"
   ]
  },
  {
   "cell_type": "code",
   "execution_count": 3,
   "metadata": {},
   "outputs": [],
   "source": [
    "# selecciono las peliculas de idioma original ingles, de 1980 a 1985. solo el titulo\n",
    "df_movies = dfm.loc[(dfm['original_language'] == 'en') & (dfm['release_year'] > 1979) & (dfm['release_year'] < 1986), 'title']"
   ]
  },
  {
   "cell_type": "code",
   "execution_count": 15,
   "metadata": {},
   "outputs": [],
   "source": [
    "# guardo esta version para probar \n",
    "df_movies.to_csv(\"movies_ds_titles.csv\" , index=False)"
   ]
  },
  {
   "cell_type": "code",
   "execution_count": 2,
   "metadata": {},
   "outputs": [],
   "source": [
    "df_movies = pd.read_csv('movies_ds_titles.csv')"
   ]
  },
  {
   "cell_type": "code",
   "execution_count": 3,
   "metadata": {},
   "outputs": [
    {
     "name": "stdout",
     "output_type": "stream",
     "text": [
      "<class 'pandas.core.frame.DataFrame'>\n",
      "RangeIndex: 1486 entries, 0 to 1485\n",
      "Data columns (total 1 columns):\n",
      " #   Column  Non-Null Count  Dtype \n",
      "---  ------  --------------  ----- \n",
      " 0   title   1486 non-null   object\n",
      "dtypes: object(1)\n",
      "memory usage: 11.7+ KB\n"
     ]
    }
   ],
   "source": [
    "df_movies.info()"
   ]
  },
  {
   "cell_type": "code",
   "execution_count": 4,
   "metadata": {},
   "outputs": [
    {
     "data": {
      "text/html": [
       "<div>\n",
       "<style scoped>\n",
       "    .dataframe tbody tr th:only-of-type {\n",
       "        vertical-align: middle;\n",
       "    }\n",
       "\n",
       "    .dataframe tbody tr th {\n",
       "        vertical-align: top;\n",
       "    }\n",
       "\n",
       "    .dataframe thead th {\n",
       "        text-align: right;\n",
       "    }\n",
       "</style>\n",
       "<table border=\"1\" class=\"dataframe\">\n",
       "  <thead>\n",
       "    <tr style=\"text-align: right;\">\n",
       "      <th></th>\n",
       "      <th>title</th>\n",
       "    </tr>\n",
       "  </thead>\n",
       "  <tbody>\n",
       "    <tr>\n",
       "      <th>0</th>\n",
       "      <td>Blade Runner</td>\n",
       "    </tr>\n",
       "    <tr>\n",
       "      <th>1</th>\n",
       "      <td>Harem</td>\n",
       "    </tr>\n",
       "    <tr>\n",
       "      <th>2</th>\n",
       "      <td>Heavy Metal</td>\n",
       "    </tr>\n",
       "    <tr>\n",
       "      <th>3</th>\n",
       "      <td>Windows</td>\n",
       "    </tr>\n",
       "    <tr>\n",
       "      <th>4</th>\n",
       "      <td>My Favorite Year</td>\n",
       "    </tr>\n",
       "  </tbody>\n",
       "</table>\n",
       "</div>"
      ],
      "text/plain": [
       "              title\n",
       "0      Blade Runner\n",
       "1             Harem\n",
       "2       Heavy Metal\n",
       "3           Windows\n",
       "4  My Favorite Year"
      ]
     },
     "execution_count": 4,
     "metadata": {},
     "output_type": "execute_result"
    }
   ],
   "source": [
    "df_movies.head()"
   ]
  },
  {
   "cell_type": "code",
   "execution_count": 6,
   "metadata": {},
   "outputs": [],
   "source": [
    "# con mucha ayuda de google y chapGPT\n",
    "# Inicializo TfidfVectorizer\n",
    "vectorizer = TfidfVectorizer()\n",
    "\n",
    "# Fit y transformación de los titulos de las peliculas\n",
    "tfidf_matrix = vectorizer.fit_transform(df_movies['title'])"
   ]
  },
  {
   "cell_type": "code",
   "execution_count": 25,
   "metadata": {},
   "outputs": [],
   "source": [
    "# ejempl de titulo de pelicula que ingreso\n",
    "titulo = 'My Year'\n",
    "# convierte en una lista\n",
    "s_tit = [titulo]\n",
    "\n",
    "# vectoriza s_tit\n",
    "s_tit_tfidf = vectorizer.transform(s_tit)"
   ]
  },
  {
   "cell_type": "code",
   "execution_count": 26,
   "metadata": {},
   "outputs": [
    {
     "name": "stdout",
     "output_type": "stream",
     "text": [
      "[[0. 0. 0. ... 0. 0. 0.]]\n"
     ]
    }
   ],
   "source": [
    "# Calcula la similitud del coseno entre el titulo de que ingreso y los titulos de las peliculas del dataset \n",
    "cosine_sim = cosine_similarity(s_tit_tfidf, tfidf_matrix)\n",
    "\n",
    "print(cosine_sim)"
   ]
  },
  {
   "cell_type": "code",
   "execution_count": 27,
   "metadata": {},
   "outputs": [
    {
     "name": "stdout",
     "output_type": "stream",
     "text": [
      "Similarity: 0.0\n"
     ]
    }
   ],
   "source": [
    "# veo como acceder a los valores de la matriz\n",
    "similarity_value = cosine_sim[0][1]  \n",
    "print(f\"Similarity: {similarity_value}\")"
   ]
  },
  {
   "cell_type": "code",
   "execution_count": 28,
   "metadata": {},
   "outputs": [
    {
     "name": "stdout",
     "output_type": "stream",
     "text": [
      "                                              Title   Cos_Sim\n",
      "0                                      Blade Runner  0.000000\n",
      "1                                             Harem  0.000000\n",
      "2                                       Heavy Metal  0.000000\n",
      "3                                           Windows  0.000000\n",
      "4                                  My Favorite Year  0.755251\n",
      "...                                             ...       ...\n",
      "1481  Portrait of a '60% Perfect Man': Billy Wilder  0.000000\n",
      "1482                      House of the Long Shadows  0.000000\n",
      "1483               The Return of Captain Invincible  0.000000\n",
      "1484                              Dawn of the Mummy  0.000000\n",
      "1485                                    Deep Hearts  0.000000\n",
      "\n",
      "[1486 rows x 2 columns]\n"
     ]
    }
   ],
   "source": [
    "# uno los títulos de las películas con sus valores de similitud de coseno correspondientes\n",
    "# (con mucha ayuda de google y chatGPT)\n",
    "result = []\n",
    "\n",
    "for i in range(len(df_movies)):  # itera por todas las filas de la serie de titulos de peliculas\n",
    "        similarity_value = cosine_sim[0][i]\n",
    "        result.append({\n",
    "           # accede a cada elemento de la serie y de la matriz\n",
    "            'Title': df_movies['title'].iloc[i],\n",
    "            'Cos_Sim': similarity_value\n",
    "        })\n",
    "\n",
    "# Convierte el resultado en un df\n",
    "result_df = pd.DataFrame(result)\n",
    "\n",
    "print(result_df)"
   ]
  },
  {
   "cell_type": "code",
   "execution_count": 29,
   "metadata": {},
   "outputs": [],
   "source": [
    "# ordena los valores de similitud en orden ascendente\n",
    "final_df = result_df.sort_values(by=['Cos_Sim'], ascending=False)"
   ]
  },
  {
   "cell_type": "code",
   "execution_count": 30,
   "metadata": {},
   "outputs": [
    {
     "name": "stdout",
     "output_type": "stream",
     "text": [
      "[['My Favorite Year', 0.7552508897037336], ['Year of the Dragon', 0.49220263957629423], [\"New Year's Evil\", 0.4620893616410682], ['The Year of Living Dangerously', 0.41144314563620066], ['My Tutor', 0.3857019303351263]]\n"
     ]
    }
   ],
   "source": [
    "# selecciona los 5 valores mas similares y los convierte en una lista\n",
    "# list = final_df.head(5).values.tolist()\n",
    "lista = final_df.head(5).to_dict(orient='records') \n",
    "print(lista)"
   ]
  }
 ],
 "metadata": {
  "kernelspec": {
   "display_name": "Python 3",
   "language": "python",
   "name": "python3"
  },
  "language_info": {
   "codemirror_mode": {
    "name": "ipython",
    "version": 3
   },
   "file_extension": ".py",
   "mimetype": "text/x-python",
   "name": "python",
   "nbconvert_exporter": "python",
   "pygments_lexer": "ipython3",
   "version": "3.12.2"
  }
 },
 "nbformat": 4,
 "nbformat_minor": 2
}
