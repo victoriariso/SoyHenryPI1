{
 "cells": [
  {
   "cell_type": "markdown",
   "metadata": {},
   "source": [
    "# <h4 align=center> **Victoria RISO** </h4>\n",
    "\n",
    "# <h4 align=center> **PROYECTO INDIVIDUAL Nº1 - Machine Learning Operations (MLOps)** </h4>\n",
    "\n",
    "# <h4 align=center>**`TRANSFORMACIONES`**</h4>"
   ]
  },
  {
   "cell_type": "code",
   "execution_count": 1,
   "metadata": {},
   "outputs": [],
   "source": [
    "import numpy as np\n",
    "import pandas as pd\n",
    "#import seaborn as sns\n",
    "#import matplotlib.pyplot as plt\n",
    "#%matplotlib inline\n",
    "import warnings\n",
    "warnings.filterwarnings('ignore')\n",
    "\n",
    "#agregados necesarios\n",
    "import ast"
   ]
  },
  {
   "cell_type": "code",
   "execution_count": 2,
   "metadata": {},
   "outputs": [],
   "source": [
    "# leo los datos movies_dataset.csv\n",
    "# df = pd.read_csv('data.csv')\n",
    "df = pd.read_csv('movies_dataset.csv')"
   ]
  },
  {
   "cell_type": "code",
   "execution_count": 3,
   "metadata": {},
   "outputs": [
    {
     "name": "stdout",
     "output_type": "stream",
     "text": [
      "<class 'pandas.core.frame.DataFrame'>\n",
      "RangeIndex: 45466 entries, 0 to 45465\n",
      "Data columns (total 24 columns):\n",
      " #   Column                 Non-Null Count  Dtype  \n",
      "---  ------                 --------------  -----  \n",
      " 0   adult                  45466 non-null  object \n",
      " 1   belongs_to_collection  4494 non-null   object \n",
      " 2   budget                 45466 non-null  object \n",
      " 3   genres                 45466 non-null  object \n",
      " 4   homepage               7782 non-null   object \n",
      " 5   id                     45466 non-null  object \n",
      " 6   imdb_id                45449 non-null  object \n",
      " 7   original_language      45455 non-null  object \n",
      " 8   original_title         45466 non-null  object \n",
      " 9   overview               44512 non-null  object \n",
      " 10  popularity             45461 non-null  object \n",
      " 11  poster_path            45080 non-null  object \n",
      " 12  production_companies   45463 non-null  object \n",
      " 13  production_countries   45463 non-null  object \n",
      " 14  release_date           45379 non-null  object \n",
      " 15  revenue                45460 non-null  float64\n",
      " 16  runtime                45203 non-null  float64\n",
      " 17  spoken_languages       45460 non-null  object \n",
      " 18  status                 45379 non-null  object \n",
      " 19  tagline                20412 non-null  object \n",
      " 20  title                  45460 non-null  object \n",
      " 21  video                  45460 non-null  object \n",
      " 22  vote_average           45460 non-null  float64\n",
      " 23  vote_count             45460 non-null  float64\n",
      "dtypes: float64(4), object(20)\n",
      "memory usage: 8.3+ MB\n"
     ]
    }
   ],
   "source": [
    "# veo nombre de las columnas, tipo de datos y cantidad de valores no nulos. \n",
    "df.info()"
   ]
  },
  {
   "cell_type": "markdown",
   "metadata": {},
   "source": [
    "Transformacion 1:<br />\n",
    "Eliminar las columnas que no serán utilizadas: video, imdb_id, adult, original_title, poster_path y homepage."
   ]
  },
  {
   "cell_type": "code",
   "execution_count": 4,
   "metadata": {},
   "outputs": [],
   "source": [
    "# elimino las columnas indicadas\n",
    "\n",
    "df = df.drop(['adult', 'homepage','imdb_id','original_title','poster_path', 'video'], axis=1)"
   ]
  },
  {
   "cell_type": "markdown",
   "metadata": {},
   "source": [
    "Transformacion 2:<br />\n",
    "Los valores nulos del campo release date deben eliminarse."
   ]
  },
  {
   "cell_type": "code",
   "execution_count": 5,
   "metadata": {},
   "outputs": [
    {
     "data": {
      "text/plain": [
       "np.int64(87)"
      ]
     },
     "execution_count": 5,
     "metadata": {},
     "output_type": "execute_result"
    }
   ],
   "source": [
    "df['release_date'].isnull().sum()  # release_date 87 null"
   ]
  },
  {
   "cell_type": "code",
   "execution_count": 6,
   "metadata": {},
   "outputs": [],
   "source": [
    "# elimino las 87 filas que tienen release_date = null\n",
    "df.drop(df[df['release_date'].isna()].index, inplace=True)"
   ]
  },
  {
   "cell_type": "markdown",
   "metadata": {},
   "source": [
    "Transformacion 3:<br />\n",
    "Los valores nulos de los campos revenue y budget deben ser rellenados por el número 0."
   ]
  },
  {
   "cell_type": "code",
   "execution_count": 7,
   "metadata": {},
   "outputs": [
    {
     "name": "stdout",
     "output_type": "stream",
     "text": [
      "Hay revenue = null: 3\n",
      "Hay budget = null: 0\n"
     ]
    }
   ],
   "source": [
    "print('Hay revenue = null:', df['revenue'].isnull().sum())  \n",
    "print('Hay budget = null:', df['budget'].isnull().sum())  "
   ]
  },
  {
   "cell_type": "code",
   "execution_count": 8,
   "metadata": {},
   "outputs": [],
   "source": [
    "# Relleno con 0 los valores nulos de la columna revenue\n",
    "# Por suerte no hay budget null. No tendré problemas al crear la columna return, salvo que haya budget en 0 (ya veré)\n",
    "df['revenue'] = df['revenue'].fillna(0)"
   ]
  },
  {
   "cell_type": "markdown",
   "metadata": {},
   "source": [
    "Transformación 4: </br>\n",
    "Crear la columna con el retorno de inversión, llamada return dividiendo los campos revenue y budget, \n",
    "revenue / budget.</br>\n",
    "Si no hay datos disponibles para calcularlo, deberá tomar el valor 0."
   ]
  },
  {
   "cell_type": "code",
   "execution_count": 9,
   "metadata": {},
   "outputs": [
    {
     "name": "stdout",
     "output_type": "stream",
     "text": [
      "Tipo de datos de la columna revenue: float64\n",
      "Tipo de datos de la columna budget: object\n"
     ]
    }
   ],
   "source": [
    "# consulto los tipos de datos de las columnas revenue y budget. Para dividirlas deberían ser numéricas \n",
    "print('Tipo de datos de la columna revenue:', df['revenue'].dtype)\n",
    "print('Tipo de datos de la columna budget:', df['budget'].dtype)"
   ]
  },
  {
   "cell_type": "code",
   "execution_count": 10,
   "metadata": {},
   "outputs": [],
   "source": [
    "# Tengo que convertir la columna budget a float64\n",
    "\n",
    "# df1['budget'] = df1['budget'].astype(float, copy = True)\n",
    "# could not convert string to float: '/ff9qCepilowshEtG2GYWwzt2bs4.jpg'\n",
    "# Ah! En una fila budget tiene ese valor! - RESOLVERLO MAS ADELANTE. NO OLVIDAR!\n",
    "\n",
    "# pandas.to_numeric\n",
    "# errors{‘ignore’, ‘raise’, ‘coerce’}, default ‘raise’\n",
    "# If ‘coerce’, then invalid parsing will be set as NaN. --> y despues los completo con 0\n",
    "# Budget = 0 dará return infinito. Ver cómo pasar a 0\n",
    "\n",
    "df['budget'] = pd.to_numeric(df['budget'], errors='coerce')\n",
    "df['budget'] = df['budget'].fillna(0)"
   ]
  },
  {
   "cell_type": "code",
   "execution_count": 11,
   "metadata": {},
   "outputs": [],
   "source": [
    "# Creo la columna retorno de inversión\n",
    "# return = revenue / budget\n",
    "# Si no hay datos disponibles para calcularlo, deberá tomar el valor 0. \n",
    "df['return'] = df['revenue']/df['budget']\n",
    "df['return'] = df['return'].fillna(0)"
   ]
  },
  {
   "cell_type": "markdown",
   "metadata": {},
   "source": [
    "Transformación 5: </br>\n",
    "De haber fechas, deberán tener el formato AAAA-mm-dd, </br>\n",
    "Además deberán crear la columna release_year donde extraerán el año de la fecha de estreno."
   ]
  },
  {
   "cell_type": "code",
   "execution_count": 12,
   "metadata": {},
   "outputs": [
    {
     "data": {
      "text/plain": [
       "array(['1995-10-30', '1995-12-15', '1995-12-22', ..., '1904-03-05',\n",
       "       '1991-05-13', '1917-10-21'], dtype=object)"
      ]
     },
     "execution_count": 12,
     "metadata": {},
     "output_type": "execute_result"
    }
   ],
   "source": [
    "# reviso el formato de la columna release date\n",
    "df['release_date'].unique()"
   ]
  },
  {
   "cell_type": "code",
   "execution_count": 47,
   "metadata": {},
   "outputs": [],
   "source": [
    "# Parece que ya está en el formato pedido\n",
    "# Pero cuando corro la instrucción para asegurarme de convertir toda la columna a ese formato da un error\n",
    "\n",
    "#df1['release_date_new']  = pd.to_datetime(df1['release_date'], format = '%Y-%m-%d')\n",
    "#ValueError: time data \"1\" doesn't match format \"%Y-%m-%d\", at position 10394. You might want to try:\n",
    "#    - passing `format` if your strings have a consistent format;\n",
    "\n",
    "# Debe haber algunas filas con otro formato. O algo diferente"
   ]
  },
  {
   "cell_type": "code",
   "execution_count": 13,
   "metadata": {},
   "outputs": [
    {
     "data": {
      "text/plain": [
       "array(['1995', '1996', '1994', '1997', '1976', '1992', '1967', '1993',\n",
       "       '1964', '1977', '1965', '1982', '1985', '1990', '1991', '1989',\n",
       "       '1937', '1940', '1969', '1981', '1974', '1970', '1960', '1955',\n",
       "       '1959', '1968', '1980', '1988', '1975', '2002', '1948', '1943',\n",
       "       '1950', '1987', '1973', '1956', '1958', '1949', '1972', '1953',\n",
       "       '1998', '1933', '2010', '1952', '1951', '1957', '1961', '1954',\n",
       "       '1934', '1944', '1963', '1942', '1941', '1939', '1947', '1946',\n",
       "       '1945', '1938', '1935', '1936', '1926', '1932', '1979', '1971',\n",
       "       '1986', '2013', '1978', '1966', '1962', '1983', '1984', '1931',\n",
       "       '1922', '1999', '1927', '1929', '1930', '1928', '2012', '1925',\n",
       "       '2000', '1919', '1923', '1920', '1918', '1921', '2001', '2011',\n",
       "       '1924', '2003', '2004', '1915', '1916', '1917', '2005', '2006',\n",
       "       '1902', '1903', '2007', '2008', '2009', '1914', '1912', '1913',\n",
       "       '1898', '1899', '1894', '1909', '1910', '1901', '1893', '1896',\n",
       "       '1', '2014', '2016', '2015', '1895', '1911', '1900', '2020',\n",
       "       '2017', '1905', '1904', '1891', '12', '2018', '1892', '1908',\n",
       "       '1897', '1887', '1888', '1890', '1878', '1874', '22', '1906',\n",
       "       '1883', '1907'], dtype=object)"
      ]
     },
     "execution_count": 13,
     "metadata": {},
     "output_type": "execute_result"
    }
   ],
   "source": [
    "# Reviso los 4 primeros caracteres de release_date para ver si todos estan en formato YYYY-\n",
    "# df.assign(col2=df['col1'].str[0:3])\n",
    "df['release_date'].str[0:4].unique()"
   ]
  },
  {
   "cell_type": "code",
   "execution_count": 14,
   "metadata": {},
   "outputs": [
    {
     "data": {
      "text/html": [
       "<div>\n",
       "<style scoped>\n",
       "    .dataframe tbody tr th:only-of-type {\n",
       "        vertical-align: middle;\n",
       "    }\n",
       "\n",
       "    .dataframe tbody tr th {\n",
       "        vertical-align: top;\n",
       "    }\n",
       "\n",
       "    .dataframe thead th {\n",
       "        text-align: right;\n",
       "    }\n",
       "</style>\n",
       "<table border=\"1\" class=\"dataframe\">\n",
       "  <thead>\n",
       "    <tr style=\"text-align: right;\">\n",
       "      <th></th>\n",
       "      <th>belongs_to_collection</th>\n",
       "      <th>budget</th>\n",
       "      <th>genres</th>\n",
       "      <th>id</th>\n",
       "      <th>original_language</th>\n",
       "      <th>overview</th>\n",
       "      <th>popularity</th>\n",
       "      <th>production_companies</th>\n",
       "      <th>production_countries</th>\n",
       "      <th>release_date</th>\n",
       "      <th>revenue</th>\n",
       "      <th>runtime</th>\n",
       "      <th>spoken_languages</th>\n",
       "      <th>status</th>\n",
       "      <th>tagline</th>\n",
       "      <th>title</th>\n",
       "      <th>vote_average</th>\n",
       "      <th>vote_count</th>\n",
       "      <th>return</th>\n",
       "    </tr>\n",
       "  </thead>\n",
       "  <tbody>\n",
       "    <tr>\n",
       "      <th>19730</th>\n",
       "      <td>0.065736</td>\n",
       "      <td>0.0</td>\n",
       "      <td>[{'name': 'Carousel Productions', 'id': 11176}...</td>\n",
       "      <td>1997-08-20</td>\n",
       "      <td>104.0</td>\n",
       "      <td>Released</td>\n",
       "      <td>NaN</td>\n",
       "      <td>False</td>\n",
       "      <td>6.0</td>\n",
       "      <td>1</td>\n",
       "      <td>0.0</td>\n",
       "      <td>NaN</td>\n",
       "      <td>NaN</td>\n",
       "      <td>NaN</td>\n",
       "      <td>NaN</td>\n",
       "      <td>NaN</td>\n",
       "      <td>NaN</td>\n",
       "      <td>NaN</td>\n",
       "      <td>0.0</td>\n",
       "    </tr>\n",
       "    <tr>\n",
       "      <th>29503</th>\n",
       "      <td>1.931659</td>\n",
       "      <td>0.0</td>\n",
       "      <td>[{'name': 'Aniplex', 'id': 2883}, {'name': 'Go...</td>\n",
       "      <td>2012-09-29</td>\n",
       "      <td>68.0</td>\n",
       "      <td>Released</td>\n",
       "      <td>NaN</td>\n",
       "      <td>False</td>\n",
       "      <td>7.0</td>\n",
       "      <td>12</td>\n",
       "      <td>0.0</td>\n",
       "      <td>NaN</td>\n",
       "      <td>NaN</td>\n",
       "      <td>NaN</td>\n",
       "      <td>NaN</td>\n",
       "      <td>NaN</td>\n",
       "      <td>NaN</td>\n",
       "      <td>NaN</td>\n",
       "      <td>0.0</td>\n",
       "    </tr>\n",
       "    <tr>\n",
       "      <th>35587</th>\n",
       "      <td>2.185485</td>\n",
       "      <td>0.0</td>\n",
       "      <td>[{'name': 'Odyssey Media', 'id': 17161}, {'nam...</td>\n",
       "      <td>2014-01-01</td>\n",
       "      <td>82.0</td>\n",
       "      <td>Released</td>\n",
       "      <td>Beware Of Frost Bites</td>\n",
       "      <td>False</td>\n",
       "      <td>4.3</td>\n",
       "      <td>22</td>\n",
       "      <td>0.0</td>\n",
       "      <td>NaN</td>\n",
       "      <td>NaN</td>\n",
       "      <td>NaN</td>\n",
       "      <td>NaN</td>\n",
       "      <td>NaN</td>\n",
       "      <td>NaN</td>\n",
       "      <td>NaN</td>\n",
       "      <td>0.0</td>\n",
       "    </tr>\n",
       "  </tbody>\n",
       "</table>\n",
       "</div>"
      ],
      "text/plain": [
       "      belongs_to_collection  budget  \\\n",
       "19730              0.065736     0.0   \n",
       "29503              1.931659     0.0   \n",
       "35587              2.185485     0.0   \n",
       "\n",
       "                                                  genres          id  \\\n",
       "19730  [{'name': 'Carousel Productions', 'id': 11176}...  1997-08-20   \n",
       "29503  [{'name': 'Aniplex', 'id': 2883}, {'name': 'Go...  2012-09-29   \n",
       "35587  [{'name': 'Odyssey Media', 'id': 17161}, {'nam...  2014-01-01   \n",
       "\n",
       "      original_language  overview             popularity production_companies  \\\n",
       "19730             104.0  Released                    NaN                False   \n",
       "29503              68.0  Released                    NaN                False   \n",
       "35587              82.0  Released  Beware Of Frost Bites                False   \n",
       "\n",
       "      production_countries release_date  revenue  runtime spoken_languages  \\\n",
       "19730                  6.0            1      0.0      NaN              NaN   \n",
       "29503                  7.0           12      0.0      NaN              NaN   \n",
       "35587                  4.3           22      0.0      NaN              NaN   \n",
       "\n",
       "      status tagline title  vote_average  vote_count  return  \n",
       "19730    NaN     NaN   NaN           NaN         NaN     0.0  \n",
       "29503    NaN     NaN   NaN           NaN         NaN     0.0  \n",
       "35587    NaN     NaN   NaN           NaN         NaN     0.0  "
      ]
     },
     "execution_count": 14,
     "metadata": {},
     "output_type": "execute_result"
    }
   ],
   "source": [
    "# Hay filas con str[0:4] '1' '12' '22'\n",
    "# Miro qué datos hay en las otras columnas de esas filas para tratar de recuperar algo \n",
    "# df.loc[df['column_name'].isin('1' '12' '22')]\n",
    "# df1.loc[df1['release_date'].str[0:4] == '1']\n",
    "df.loc[df['release_date'].str[0:4].isin(['1', '12', '22'])]"
   ]
  },
  {
   "cell_type": "code",
   "execution_count": 15,
   "metadata": {},
   "outputs": [],
   "source": [
    "# Los datos estan corridos. Son solo 3 filas.\n",
    "# Borro las 3 filas que tienen valores invalidos en release_date\n",
    "df.drop([19730, 29503,35587], inplace=True)"
   ]
  },
  {
   "cell_type": "code",
   "execution_count": 16,
   "metadata": {},
   "outputs": [
    {
     "name": "stdout",
     "output_type": "stream",
     "text": [
      "Deberían ser números válidos de meses: ['10' '12' '02' '11' '09' '05' '04' '08' '07' '06' '01' '03']\n",
      "Deberían ser números válidos de días: ['30' '15' '22' '10' '16' '17' '13' '09' '21' '20' '27' '06' '11' '29'\n",
      " '18' '08' '19' '14' '05' '01' '02' '12' '26' '03' '23' '31' '28' '07'\n",
      " '24' '25' '04']\n"
     ]
    }
   ],
   "source": [
    "# Por las dudas, reviso también las posiciones correspondientes a los meses y los días\n",
    "print('Deberían ser números válidos de meses:', df['release_date'].str[5:7].unique())\n",
    "print('Deberían ser números válidos de días:', df['release_date'].str[8:10].unique())"
   ]
  },
  {
   "cell_type": "code",
   "execution_count": 17,
   "metadata": {},
   "outputs": [
    {
     "data": {
      "text/plain": [
       "dtype('<M8[ns]')"
      ]
     },
     "execution_count": 17,
     "metadata": {},
     "output_type": "execute_result"
    }
   ],
   "source": [
    "# Ya eliminé las filas los valores inválidos. Y las posiciones de meses y dias tienen los valores esperados\n",
    "# Ahora tendría que andar bien\n",
    "\n",
    "# Use the .dt.year accessor to extract the year from a DateTime column in Pandas.\n",
    "# Ensure the DateTime column is in the correct format using pd.to_datetime() if needed.\n",
    "\n",
    "df['release_date']  = pd.to_datetime(df['release_date'], format = '%Y-%m-%d')\n",
    "\n",
    "# Y confirmo que convirtió la columna a datetime\n",
    "df['release_date'].dtype"
   ]
  },
  {
   "cell_type": "code",
   "execution_count": 18,
   "metadata": {},
   "outputs": [
    {
     "data": {
      "text/plain": [
       "array([1995, 1996, 1994, 1997, 1976, 1992, 1967, 1993, 1964, 1977, 1965,\n",
       "       1982, 1985, 1990, 1991, 1989, 1937, 1940, 1969, 1981, 1974, 1970,\n",
       "       1960, 1955, 1959, 1968, 1980, 1988, 1975, 2002, 1948, 1943, 1950,\n",
       "       1987, 1973, 1956, 1958, 1949, 1972, 1953, 1998, 1933, 2010, 1952,\n",
       "       1951, 1957, 1961, 1954, 1934, 1944, 1963, 1942, 1941, 1939, 1947,\n",
       "       1946, 1945, 1938, 1935, 1936, 1926, 1932, 1979, 1971, 1986, 2013,\n",
       "       1978, 1966, 1962, 1983, 1984, 1931, 1922, 1999, 1927, 1929, 1930,\n",
       "       1928, 2012, 1925, 2000, 1919, 1923, 1920, 1918, 1921, 2001, 2011,\n",
       "       1924, 2003, 2004, 1915, 1916, 1917, 2005, 2006, 1902, 1903, 2007,\n",
       "       2008, 2009, 1914, 1912, 1913, 1898, 1899, 1894, 1909, 1910, 1901,\n",
       "       1893, 1896, 2014, 2016, 2015, 1895, 1911, 1900, 2020, 2017, 1905,\n",
       "       1904, 1891, 2018, 1892, 1908, 1897, 1887, 1888, 1890, 1878, 1874,\n",
       "       1906, 1883, 1907], dtype=int32)"
      ]
     },
     "execution_count": 18,
     "metadata": {},
     "output_type": "execute_result"
    }
   ],
   "source": [
    "# crear la columna **`release_year`** donde extraerán el año de la fecha de estreno.\n",
    "# extraigo el año de la fecha de estreno\n",
    "df['release_year'] = df['release_date'].dt.year\n",
    "\n",
    "# Y reviso los años (re porfiada!)\n",
    "df['release_year'].unique()"
   ]
  },
  {
   "cell_type": "code",
   "execution_count": 21,
   "metadata": {},
   "outputs": [],
   "source": [
    "# Guardo el dataset movies ya transformado para no tener que volver a correr todo. \n",
    "# Usos futuros (EDA y funciones)\n",
    "df.to_csv(\"movies_ds_transform.csv\" , index=False)"
   ]
  },
  {
   "cell_type": "markdown",
   "metadata": {},
   "source": [
    "Trasnformación 6:</br>\n",
    "Algunos campos, como belongs_to_collection, production_companies y otros (ver diccionario de datos) están anidados, esto es o bien tienen un diccionario o una lista como valores en cada fila, ¡deberán desanidarlos para poder y unirlos al dataset de nuevo hacer alguna de las consultas de la API! O bien buscar la manera de acceder a esos datos sin desanidarlos."
   ]
  },
  {
   "cell_type": "code",
   "execution_count": null,
   "metadata": {},
   "outputs": [],
   "source": [
    "# Analizo que columnas necesitaré para cada endpoint de la API (sugirieron que no transformáramos columnas que no necesitaremos)\n",
    "# En otra notebook mostraré lo que preparé para cada función\n",
    "\n",
    "'''\n",
    "cantidad_filmaciones_mes: \n",
    " - id de la película (ya me di cuenta que no necesito el título)\n",
    " - mes de estreno en español o número del mes (PREPARAR ESTA COLUMNA)\n",
    "\n",
    "cantidad_filmaciones_dia: \n",
    " - id de la película \n",
    " - día de la semana en que se estrenó la película en idioma español (el día de la semana, no el estreno en español) (PREPARAR ESTA COLUMNA)\n",
    "\n",
    "score_titulo: \n",
    " - id de la película \n",
    " - title\n",
    " - release_year\n",
    " - popularity (piden score/popularidad. Es esa columna)\n",
    "   (ya tengo todas las columnas necesarias) \n",
    " \n",
    "votos_titulo: \n",
    " - id de la película \n",
    " - title,\n",
    " - release_year,\n",
    " - vote_average,\n",
    " - vote_count\n",
    "   (tengo las columnas necesarias) \n",
    "\n",
    "get_actor: \n",
    " - id de la película \n",
    " - id del actor (campos id de la columna cast de la tabla credits) \n",
    " - nombre del actor (campos name de la columna cast de la tabla credits)\n",
    " - título de cada pelicula en la qu participó\n",
    " - return de cada pelicula en la que participó\n",
    " - es_director (PREPARAR ESTA COLUMNA indicando los actores que tambien son directores porque hay que informar eso y no mostrar sus datos)\n",
    " NECESITO DESANIDAR LA COLUMNA CAST DE LA TABLA CREDITS PARA CONSEGUIR LOS DATOS DE LOS ACTORES. Hay varios actores por fila\n",
    " \n",
    "get_director: \n",
    " - id de la película \n",
    " - id del director (id de la columna crew de la tabla credits donde 'job': 'Director')\n",
    " - nombre del director (name de la columna crew de la tabla credits donde 'job': 'Director') \n",
    " - title\n",
    " - release_year\n",
    " - budget\n",
    " - revenue\n",
    " - return\n",
    " NECESITO DESANIDAR LA COLUMNA CREW DE LA TABLA CREDITS PARA CONSEGUIR LOS DATOS DE LOS DIRECTORES'''"
   ]
  },
  {
   "cell_type": "markdown",
   "metadata": {},
   "source": [
    "Desanidaré los campos de las columnas cast y crew de la tabla credits porque necesito algunos valores para las funciones get_actor y get_director"
   ]
  },
  {
   "cell_type": "code",
   "execution_count": null,
   "metadata": {},
   "outputs": [],
   "source": [
    "credits_aftermerge.to_csv(\"credits_sin_duplic.csv\" , index=False)"
   ]
  },
  {
   "cell_type": "markdown",
   "metadata": {},
   "source": [
    "Transformación 6.1: desanido la columna cast"
   ]
  },
  {
   "cell_type": "code",
   "execution_count": 19,
   "metadata": {},
   "outputs": [
    {
     "name": "stdout",
     "output_type": "stream",
     "text": [
      "<class 'pandas.core.frame.DataFrame'>\n",
      "RangeIndex: 45345 entries, 0 to 45344\n",
      "Data columns (total 3 columns):\n",
      " #   Column  Non-Null Count  Dtype \n",
      "---  ------  --------------  ----- \n",
      " 0   id      45345 non-null  int64 \n",
      " 1   cast    45345 non-null  object\n",
      " 2   crew    45345 non-null  object\n",
      "dtypes: int64(1), object(2)\n",
      "memory usage: 1.0+ MB\n"
     ]
    }
   ],
   "source": [
    "# Leo el dataset credit y veo info \n",
    "\n",
    "# Nota: Al hacer el EDA encontré que habia ids duplicados de películas en los datasets de movies y de credits\n",
    "# Tambien habia filas de películas y credits que no se correspondian entre si\n",
    "# En la notebook de EDA elimine los duplicados e hice un inner join entre ambos datasets. Los guarde por separado\n",
    "# El de movies sin duplicados lo usare en la notebook donde desarrollo las funciones\n",
    "# El de credits lo leo aqui porque necesito dejar preparadas las columnas de actores y directores sin duplicados\n",
    "dfc = pd.read_csv('credits_sin_duplic.csv')\n",
    "dfc.info()"
   ]
  },
  {
   "cell_type": "code",
   "execution_count": 20,
   "metadata": {},
   "outputs": [
    {
     "name": "stdout",
     "output_type": "stream",
     "text": [
      "col cast: [{'cast_id': 14, 'character': 'Woody (voice)', 'credit_id': '52fe4284c3a36847f8024f95', 'gender': 2, 'id': 31, 'name': 'Tom Hanks', 'order': 0, 'profile_path': '/pQFoyx7rp09CJTAb932F2g8Nlho.jpg'}, {'cast_id': 15, 'character': 'Buzz Lightyear (voice)', 'credit_id': '52fe4284c3a36847f8024f99', 'gender': 2, 'id': 12898, 'name': 'Tim Allen', 'order': 1, 'profile_path': '/uX2xVf6pMmPepxnvFWyBtjexzgY.jpg'}, {'cast_id': 16, 'character': 'Mr. Potato Head (voice)', 'credit_id': '52fe4284c3a36847f8024f9d', 'gender': 2, 'id': 7167, 'name': 'Don Rickles', 'order': 2, 'profile_path': '/h5BcaDMPRVLHLDzbQavec4xfSdt.jpg'}, {'cast_id': 17, 'character': 'Slinky Dog (voice)', 'credit_id': '52fe4284c3a36847f8024fa1', 'gender': 2, 'id': 12899, 'name': 'Jim Varney', 'order': 3, 'profile_path': '/eIo2jVVXYgjDtaHoF19Ll9vtW7h.jpg'}, {'cast_id': 18, 'character': 'Rex (voice)', 'credit_id': '52fe4284c3a36847f8024fa5', 'gender': 2, 'id': 12900, 'name': 'Wallace Shawn', 'order': 4, 'profile_path': '/oGE6JqPP2xH4tNORKNqxbNPYi7u.jpg'}, {'cast_id': 19, 'character': 'Hamm (voice)', 'credit_id': '52fe4284c3a36847f8024fa9', 'gender': 2, 'id': 7907, 'name': 'John Ratzenberger', 'order': 5, 'profile_path': '/yGechiKWL6TJDfVE2KPSJYqdMsY.jpg'}, {'cast_id': 20, 'character': 'Bo Peep (voice)', 'credit_id': '52fe4284c3a36847f8024fad', 'gender': 1, 'id': 8873, 'name': 'Annie Potts', 'order': 6, 'profile_path': '/eryXT84RL41jHSJcMy4kS3u9y6w.jpg'}, {'cast_id': 26, 'character': 'Andy (voice)', 'credit_id': '52fe4284c3a36847f8024fc1', 'gender': 0, 'id': 1116442, 'name': 'John Morris', 'order': 7, 'profile_path': '/vYGyvK4LzeaUCoNSHtsuqJUY15M.jpg'}, {'cast_id': 22, 'character': 'Sid (voice)', 'credit_id': '52fe4284c3a36847f8024fb1', 'gender': 2, 'id': 12901, 'name': 'Erik von Detten', 'order': 8, 'profile_path': '/twnF1ZaJ1FUNUuo6xLXwcxjayBE.jpg'}, {'cast_id': 23, 'character': 'Mrs. Davis (voice)', 'credit_id': '52fe4284c3a36847f8024fb5', 'gender': 1, 'id': 12133, 'name': 'Laurie Metcalf', 'order': 9, 'profile_path': '/unMMIT60eoBM2sN2nyR7EZ2BvvD.jpg'}, {'cast_id': 24, 'character': 'Sergeant (voice)', 'credit_id': '52fe4284c3a36847f8024fb9', 'gender': 2, 'id': 8655, 'name': 'R. Lee Ermey', 'order': 10, 'profile_path': '/r8GBqFBjypLUP9VVqDqfZ7wYbSs.jpg'}, {'cast_id': 25, 'character': 'Hannah (voice)', 'credit_id': '52fe4284c3a36847f8024fbd', 'gender': 1, 'id': 12903, 'name': 'Sarah Freeman', 'order': 11, 'profile_path': None}, {'cast_id': 27, 'character': 'TV Announcer (voice)', 'credit_id': '52fe4284c3a36847f8024fc5', 'gender': 2, 'id': 37221, 'name': 'Penn Jillette', 'order': 12, 'profile_path': '/zmAaXUdx12NRsssgHbk1T31j2x9.jpg'}]\n",
      "col crew: [{'credit_id': '52fe4284c3a36847f8024f49', 'department': 'Directing', 'gender': 2, 'id': 7879, 'job': 'Director', 'name': 'John Lasseter', 'profile_path': '/7EdqiNbr4FRjIhKHyPPdFfEEEFG.jpg'}, {'credit_id': '52fe4284c3a36847f8024f4f', 'department': 'Writing', 'gender': 2, 'id': 12891, 'job': 'Screenplay', 'name': 'Joss Whedon', 'profile_path': '/dTiVsuaTVTeGmvkhcyJvKp2A5kr.jpg'}, {'credit_id': '52fe4284c3a36847f8024f55', 'department': 'Writing', 'gender': 2, 'id': 7, 'job': 'Screenplay', 'name': 'Andrew Stanton', 'profile_path': '/pvQWsu0qc8JFQhMVJkTHuexUAa1.jpg'}, {'credit_id': '52fe4284c3a36847f8024f5b', 'department': 'Writing', 'gender': 2, 'id': 12892, 'job': 'Screenplay', 'name': 'Joel Cohen', 'profile_path': '/dAubAiZcvKFbboWlj7oXOkZnTSu.jpg'}, {'credit_id': '52fe4284c3a36847f8024f61', 'department': 'Writing', 'gender': 0, 'id': 12893, 'job': 'Screenplay', 'name': 'Alec Sokolow', 'profile_path': '/v79vlRYi94BZUQnkkyznbGUZLjT.jpg'}, {'credit_id': '52fe4284c3a36847f8024f67', 'department': 'Production', 'gender': 1, 'id': 12894, 'job': 'Producer', 'name': 'Bonnie Arnold', 'profile_path': None}, {'credit_id': '52fe4284c3a36847f8024f6d', 'department': 'Production', 'gender': 0, 'id': 12895, 'job': 'Executive Producer', 'name': 'Ed Catmull', 'profile_path': None}, {'credit_id': '52fe4284c3a36847f8024f73', 'department': 'Production', 'gender': 2, 'id': 12896, 'job': 'Producer', 'name': 'Ralph Guggenheim', 'profile_path': None}, {'credit_id': '52fe4284c3a36847f8024f79', 'department': 'Production', 'gender': 2, 'id': 12897, 'job': 'Executive Producer', 'name': 'Steve Jobs', 'profile_path': '/mOMP3SwD5qWQSR0ldCIByd3guTV.jpg'}, {'credit_id': '52fe4284c3a36847f8024f8b', 'department': 'Editing', 'gender': 2, 'id': 8, 'job': 'Editor', 'name': 'Lee Unkrich', 'profile_path': '/bdTCCXjgOV3YyaNmLGYGOxFQMOc.jpg'}, {'credit_id': '52fe4284c3a36847f8024f91', 'department': 'Art', 'gender': 2, 'id': 7883, 'job': 'Art Direction', 'name': 'Ralph Eggleston', 'profile_path': '/uUfcGKDsKO1aROMpXRs67Hn6RvR.jpg'}, {'credit_id': '598331bf925141421201044b', 'department': 'Editing', 'gender': 2, 'id': 1168870, 'job': 'Editor', 'name': 'Robert Gordon', 'profile_path': None}, {'credit_id': '5892168cc3a36809660095f9', 'department': 'Sound', 'gender': 0, 'id': 1552883, 'job': 'Foley Editor', 'name': 'Mary Helen Leasman', 'profile_path': None}, {'credit_id': '5531824d9251415289000945', 'department': 'Visual Effects', 'gender': 0, 'id': 1453514, 'job': 'Animation', 'name': 'Kim Blanchette', 'profile_path': None}, {'credit_id': '589215969251412dcb009bf6', 'department': 'Sound', 'gender': 0, 'id': 1414182, 'job': 'ADR Editor', 'name': 'Marilyn McCoppen', 'profile_path': None}, {'credit_id': '589217099251412dc500a018', 'department': 'Sound', 'gender': 2, 'id': 7885, 'job': 'Orchestrator', 'name': 'Randy Newman', 'profile_path': '/w0JzfoiM25nrnxYOzosPHRq6mlE.jpg'}, {'credit_id': '5693e6b29251417b0e0000e3', 'department': 'Editing', 'gender': 0, 'id': 1429549, 'job': 'Color Timer', 'name': 'Dale E. Grahn', 'profile_path': None}, {'credit_id': '572e2522c3a36869e6001a9c', 'department': 'Visual Effects', 'gender': 0, 'id': 7949, 'job': 'CG Painter', 'name': 'Robin Cooper', 'profile_path': None}, {'credit_id': '574f12309251415ca1000012', 'department': 'Writing', 'gender': 2, 'id': 7879, 'job': 'Original Story', 'name': 'John Lasseter', 'profile_path': '/7EdqiNbr4FRjIhKHyPPdFfEEEFG.jpg'}, {'credit_id': '574f1240c3a3682e7300001c', 'department': 'Writing', 'gender': 2, 'id': 12890, 'job': 'Original Story', 'name': 'Pete Docter', 'profile_path': '/r6ngPgnReA3RHmKjmSoVsc6Awjp.jpg'}, {'credit_id': '574f12519251415c92000015', 'department': 'Writing', 'gender': 0, 'id': 7911, 'job': 'Original Story', 'name': 'Joe Ranft', 'profile_path': '/f1BoWC2JbCcfP1e5hKfGsxkHzVU.jpg'}, {'credit_id': '574f12cec3a3682e82000022', 'department': 'Crew', 'gender': 0, 'id': 1629419, 'job': 'Post Production Supervisor', 'name': 'Patsy Bouge', 'profile_path': None}, {'credit_id': '574f14f19251415ca1000082', 'department': 'Art', 'gender': 0, 'id': 7961, 'job': 'Sculptor', 'name': 'Norm DeCarlo', 'profile_path': None}, {'credit_id': '5751ae4bc3a3683772002b7f', 'department': 'Visual Effects', 'gender': 2, 'id': 12905, 'job': 'Animation Director', 'name': 'Ash Brannon', 'profile_path': '/6ueWgPEEBHvS3De2BHYQnYjRTig.jpg'}, {'credit_id': '5891edbe9251412dc5007cd6', 'department': 'Sound', 'gender': 2, 'id': 7885, 'job': 'Music', 'name': 'Randy Newman', 'profile_path': '/w0JzfoiM25nrnxYOzosPHRq6mlE.jpg'}, {'credit_id': '589213d39251412dc8009832', 'department': 'Directing', 'gender': 0, 'id': 1748707, 'job': 'Layout', 'name': 'Roman Figun', 'profile_path': None}, {'credit_id': '5892173dc3a3680968009351', 'department': 'Sound', 'gender': 2, 'id': 4949, 'job': 'Orchestrator', 'name': 'Don Davis', 'profile_path': None}, {'credit_id': '589217cec3a3686b0a0052ba', 'department': 'Sound', 'gender': 0, 'id': 1372885, 'job': 'Music Editor', 'name': 'James Flamberg', 'profile_path': None}, {'credit_id': '58921831c3a3686348004a64', 'department': 'Editing', 'gender': 0, 'id': 1739962, 'job': 'Negative Cutter', 'name': 'Mary Beth Smith', 'profile_path': None}, {'credit_id': '58921838c3a36809700096c0', 'department': 'Editing', 'gender': 0, 'id': 1748513, 'job': 'Negative Cutter', 'name': 'Rick Mackay', 'profile_path': None}, {'credit_id': '589218429251412dd1009d1b', 'department': 'Art', 'gender': 0, 'id': 1458006, 'job': 'Title Designer', 'name': 'Susan Bradley', 'profile_path': None}, {'credit_id': '5891ed99c3a3680966007670', 'department': 'Crew', 'gender': 0, 'id': 1748557, 'job': 'Supervising Technical Director', 'name': 'William Reeves', 'profile_path': None}, {'credit_id': '5891edcec3a3686b0a002eb2', 'department': 'Sound', 'gender': 2, 'id': 7885, 'job': 'Songs', 'name': 'Randy Newman', 'profile_path': '/w0JzfoiM25nrnxYOzosPHRq6mlE.jpg'}, {'credit_id': '5891edf9c3a36809700075e6', 'department': 'Writing', 'gender': 2, 'id': 7, 'job': 'Original Story', 'name': 'Andrew Stanton', 'profile_path': '/pvQWsu0qc8JFQhMVJkTHuexUAa1.jpg'}, {'credit_id': '58920f0b9251412dd7009104', 'department': 'Crew', 'gender': 2, 'id': 12890, 'job': 'Supervising Animator', 'name': 'Pete Docter', 'profile_path': '/r6ngPgnReA3RHmKjmSoVsc6Awjp.jpg'}, {'credit_id': '58920f1fc3a3680977009021', 'department': 'Sound', 'gender': 2, 'id': 2216, 'job': 'Sound Designer', 'name': 'Gary Rydstrom', 'profile_path': '/jZpr1nVfO7lldWI0YtmP1FGw7Rj.jpg'}, {'credit_id': '58920f389251412dd700912d', 'department': 'Production', 'gender': 0, 'id': 12909, 'job': 'Production Supervisor', 'name': 'Karen Robert Jackson', 'profile_path': None}, {'credit_id': '58920fbd9251412dcb00969c', 'department': 'Crew', 'gender': 0, 'id': 953331, 'job': 'Executive Music Producer', 'name': 'Chris Montan', 'profile_path': None}, {'credit_id': '589210069251412dd7009219', 'department': 'Visual Effects', 'gender': 0, 'id': 7893, 'job': 'Animation Director', 'name': 'Rich Quade', 'profile_path': None}, {'credit_id': '589210329251412dcd00943b', 'department': 'Visual Effects', 'gender': 0, 'id': 8025, 'job': 'Animation', 'name': 'Michael Berenstein', 'profile_path': None}, {'credit_id': '5892103bc3a368096a009180', 'department': 'Visual Effects', 'gender': 0, 'id': 78009, 'job': 'Animation', 'name': 'Colin Brady', 'profile_path': None}, {'credit_id': '5892105dc3a3680968008db2', 'department': 'Visual Effects', 'gender': 0, 'id': 1748682, 'job': 'Animation', 'name': 'Davey Crockett Feiten', 'profile_path': None}, {'credit_id': '589210669251412dcd009466', 'department': 'Visual Effects', 'gender': 0, 'id': 1454030, 'job': 'Animation', 'name': 'Angie Glocka', 'profile_path': None}, {'credit_id': '5892107c9251412dd1009613', 'department': 'Visual Effects', 'gender': 0, 'id': 1748683, 'job': 'Animation', 'name': 'Rex Grignon', 'profile_path': None}, {'credit_id': '5892108ac3a3680973008d3f', 'department': 'Visual Effects', 'gender': 0, 'id': 1748684, 'job': 'Animation', 'name': 'Tom K. Gurney', 'profile_path': None}, {'credit_id': '58921093c3a3686348004477', 'department': 'Visual Effects', 'gender': 2, 'id': 8029, 'job': 'Animation', 'name': 'Jimmy Hayward', 'profile_path': '/lTDRpudEY7BDwTefXbXzMlmb0ui.jpg'}, {'credit_id': '5892109b9251412dcd0094b0', 'department': 'Visual Effects', 'gender': 0, 'id': 1426773, 'job': 'Animation', 'name': 'Hal T. Hickel', 'profile_path': None}, {'credit_id': '589210a29251412dc5009a29', 'department': 'Visual Effects', 'gender': 0, 'id': 8035, 'job': 'Animation', 'name': 'Karen Kiser', 'profile_path': None}, {'credit_id': '589210ccc3a3680977009191', 'department': 'Visual Effects', 'gender': 0, 'id': 1748688, 'job': 'Animation', 'name': 'Anthony B. LaMolinara', 'profile_path': None}, {'credit_id': '589210d7c3a3686b0a004c1f', 'department': 'Visual Effects', 'gender': 0, 'id': 587314, 'job': 'Animation', 'name': 'Guionne Leroy', 'profile_path': None}, {'credit_id': '589210e1c3a36809770091a7', 'department': 'Visual Effects', 'gender': 2, 'id': 7918, 'job': 'Animation', 'name': 'Bud Luckey', 'profile_path': '/pcCh7G19FKMNijmPQg1PMH1btic.jpg'}, {'credit_id': '589210ee9251412dc200978a', 'department': 'Visual Effects', 'gender': 0, 'id': 1748689, 'job': 'Animation', 'name': 'Les Major', 'profile_path': None}, {'credit_id': '589210fa9251412dc8009595', 'department': 'Visual Effects', 'gender': 2, 'id': 7892, 'job': 'Animation', 'name': 'Glenn McQueen', 'profile_path': None}, {'credit_id': '589211029251412dc8009598', 'department': 'Visual Effects', 'gender': 0, 'id': 555795, 'job': 'Animation', 'name': 'Mark Oftedal', 'profile_path': None}, {'credit_id': '5892110b9251412dc800959d', 'department': 'Visual Effects', 'gender': 2, 'id': 7882, 'job': 'Animation', 'name': 'Jeff Pidgeon', 'profile_path': '/yLddkg5HcgbJg00cS13GVBnP0HY.jpg'}, {'credit_id': '58921113c3a36863480044e4', 'department': 'Visual Effects', 'gender': 0, 'id': 8017, 'job': 'Animation', 'name': 'Jeff Pratt', 'profile_path': None}, {'credit_id': '5892111c9251412dcb0097e9', 'department': 'Visual Effects', 'gender': 0, 'id': 1184140, 'job': 'Animation', 'name': 'Steve Rabatich', 'profile_path': None}, {'credit_id': '58921123c3a36809700090f6', 'department': 'Visual Effects', 'gender': 0, 'id': 8049, 'job': 'Animation', 'name': 'Roger Rose', 'profile_path': None}, {'credit_id': '5892112b9251412dcb0097fb', 'department': 'Visual Effects', 'gender': 0, 'id': 1509559, 'job': 'Animation', 'name': 'Steve Segal', 'profile_path': None}, {'credit_id': '589211349251412dc80095c3', 'department': 'Visual Effects', 'gender': 0, 'id': 1748691, 'job': 'Animation', 'name': 'Doug Sheppeck', 'profile_path': None}, {'credit_id': '5892113cc3a3680970009106', 'department': 'Visual Effects', 'gender': 0, 'id': 8050, 'job': 'Animation', 'name': 'Alan Sperling', 'profile_path': None}, {'credit_id': '58921148c3a3686b0a004c99', 'department': 'Visual Effects', 'gender': 0, 'id': 8010, 'job': 'Animation', 'name': 'Doug Sweetland', 'profile_path': None}, {'credit_id': '58921150c3a3680966009125', 'department': 'Visual Effects', 'gender': 0, 'id': 8044, 'job': 'Animation', 'name': 'David Tart', 'profile_path': None}, {'credit_id': '589211629251412dc5009b00', 'department': 'Visual Effects', 'gender': 0, 'id': 1454034, 'job': 'Animation', 'name': 'Ken Willard', 'profile_path': None}, {'credit_id': '589211c1c3a3686b0a004d28', 'department': 'Visual Effects', 'gender': 0, 'id': 7887, 'job': 'Visual Effects Supervisor', 'name': 'Thomas Porter', 'profile_path': None}, {'credit_id': '589211d4c3a3680968008ed9', 'department': 'Visual Effects', 'gender': 0, 'id': 1406878, 'job': 'Visual Effects', 'name': 'Mark Thomas Henne', 'profile_path': None}, {'credit_id': '589211f59251412dd4008e65', 'department': 'Visual Effects', 'gender': 0, 'id': 1748698, 'job': 'Visual Effects', 'name': 'Oren Jacob', 'profile_path': None}, {'credit_id': '58921242c3a368096a00939b', 'department': 'Visual Effects', 'gender': 0, 'id': 1748699, 'job': 'Visual Effects', 'name': 'Darwyn Peachey', 'profile_path': None}, {'credit_id': '5892124b9251412dc5009bd2', 'department': 'Visual Effects', 'gender': 0, 'id': 1748701, 'job': 'Visual Effects', 'name': 'Mitch Prater', 'profile_path': None}, {'credit_id': '58921264c3a3686b0a004dbf', 'department': 'Visual Effects', 'gender': 0, 'id': 1748703, 'job': 'Visual Effects', 'name': 'Brian M. Rosen', 'profile_path': None}, {'credit_id': '589212709251412dcd009676', 'department': 'Lighting', 'gender': 1, 'id': 12912, 'job': 'Lighting Supervisor', 'name': 'Sharon Calahan', 'profile_path': None}, {'credit_id': '5892127fc3a3686b0a004de5', 'department': 'Lighting', 'gender': 0, 'id': 7899, 'job': 'Lighting Supervisor', 'name': 'Galyn Susman', 'profile_path': None}, {'credit_id': '589212cdc3a3680970009268', 'department': 'Visual Effects', 'gender': 0, 'id': 12915, 'job': 'CG Painter', 'name': 'William Cone', 'profile_path': None}, {'credit_id': '5892130f9251412dc8009791', 'department': 'Art', 'gender': 0, 'id': 1748705, 'job': 'Sculptor', 'name': 'Shelley Daniels Lekven', 'profile_path': None}, {'credit_id': '5892131c9251412dd4008f4c', 'department': 'Visual Effects', 'gender': 2, 'id': 7889, 'job': 'Character Designer', 'name': 'Bob Pauley', 'profile_path': None}, {'credit_id': '589213249251412dd100987b', 'department': 'Visual Effects', 'gender': 2, 'id': 7918, 'job': 'Character Designer', 'name': 'Bud Luckey', 'profile_path': '/pcCh7G19FKMNijmPQg1PMH1btic.jpg'}, {'credit_id': '5892132b9251412dc80097b1', 'department': 'Visual Effects', 'gender': 2, 'id': 7, 'job': 'Character Designer', 'name': 'Andrew Stanton', 'profile_path': '/pvQWsu0qc8JFQhMVJkTHuexUAa1.jpg'}, {'credit_id': '58921332c3a368634800467b', 'department': 'Visual Effects', 'gender': 0, 'id': 12915, 'job': 'Character Designer', 'name': 'William Cone', 'profile_path': None}, {'credit_id': '5892135f9251412dd4008f90', 'department': 'Visual Effects', 'gender': 0, 'id': 1748706, 'job': 'Character Designer', 'name': 'Steve Johnson', 'profile_path': None}, {'credit_id': '58921384c3a3680973008fd4', 'department': 'Visual Effects', 'gender': 0, 'id': 1176752, 'job': 'Character Designer', 'name': 'Dan Haskett', 'profile_path': None}, {'credit_id': '5892138e9251412dc20099fc', 'department': 'Visual Effects', 'gender': 0, 'id': 1088034, 'job': 'Character Designer', 'name': 'Tom Holloway', 'profile_path': '/a0r0T2usTBpgMI5aZbRBDW1fTl8.jpg'}, {'credit_id': '58921395c3a368097700942f', 'department': 'Visual Effects', 'gender': 0, 'id': 1447465, 'job': 'Character Designer', 'name': 'Jean Gillmore', 'profile_path': None}, {'credit_id': '589213e2c3a3680973009026', 'department': 'Directing', 'gender': 0, 'id': 1748709, 'job': 'Layout', 'name': 'Desirée Mourad', 'profile_path': None}, {'credit_id': '589214099251412dc5009d57', 'department': 'Art', 'gender': 0, 'id': 1748710, 'job': 'Set Dresser', 'name': \"Kelly O'Connell\", 'profile_path': None}, {'credit_id': '58921411c3a3686b0a004f70', 'department': 'Art', 'gender': 0, 'id': 1443471, 'job': 'Set Dresser', 'name': 'Sonoko Konishi', 'profile_path': None}, {'credit_id': '58921434c3a368096a00956e', 'department': 'Art', 'gender': 0, 'id': 1748711, 'job': 'Set Dresser', 'name': 'Ann M. Rockwell', 'profile_path': None}, {'credit_id': '5892144ac3a36809680090de', 'department': 'Editing', 'gender': 0, 'id': 1748712, 'job': 'Editorial Manager', 'name': 'Julie M. McDonald', 'profile_path': None}, {'credit_id': '58921479c3a368096800910f', 'department': 'Editing', 'gender': 0, 'id': 1589729, 'job': 'Assistant Editor', 'name': 'Robin Lee', 'profile_path': None}, {'credit_id': '5892148b9251412dd10099cc', 'department': 'Editing', 'gender': 0, 'id': 1748716, 'job': 'Assistant Editor', 'name': 'Tom Freeman', 'profile_path': None}, {'credit_id': '589214959251412dcb009b1f', 'department': 'Editing', 'gender': 0, 'id': 1748717, 'job': 'Assistant Editor', 'name': 'Ada Cochavi', 'profile_path': None}, {'credit_id': '5892149ec3a3686348004798', 'department': 'Editing', 'gender': 0, 'id': 1336438, 'job': 'Assistant Editor', 'name': 'Dana Mulligan', 'profile_path': None}, {'credit_id': '589214adc3a368096a0095db', 'department': 'Editing', 'gender': 0, 'id': 1748718, 'job': 'Editorial Coordinator', 'name': 'Deirdre Morrison', 'profile_path': None}, {'credit_id': '589214c7c3a368097700952b', 'department': 'Production', 'gender': 0, 'id': 1748719, 'job': 'Production Coordinator', 'name': 'Lori Lombardo', 'profile_path': None}, {'credit_id': '589214cec3a368096a009603', 'department': 'Production', 'gender': 0, 'id': 1748720, 'job': 'Production Coordinator', 'name': 'Ellen Devine', 'profile_path': None}, {'credit_id': '589214e39251412dc8009904', 'department': 'Crew', 'gender': 0, 'id': 1468014, 'job': 'Unit Publicist', 'name': 'Lauren Beth Strogoff', 'profile_path': None}, {'credit_id': '58921544c3a3686b0a00507d', 'department': 'Sound', 'gender': 2, 'id': 2216, 'job': 'Sound Re-Recording Mixer', 'name': 'Gary Rydstrom', 'profile_path': '/jZpr1nVfO7lldWI0YtmP1FGw7Rj.jpg'}, {'credit_id': '5892154c9251412dd1009a56', 'department': 'Sound', 'gender': 0, 'id': 1425978, 'job': 'Sound Re-Recording Mixer', 'name': 'Gary Summers', 'profile_path': None}, {'credit_id': '58921555c3a36809680091bd', 'department': 'Sound', 'gender': 2, 'id': 8276, 'job': 'Supervising Sound Editor', 'name': 'Tim Holland', 'profile_path': None}, {'credit_id': '589215c39251412dcb009c12', 'department': 'Sound', 'gender': 0, 'id': 7069, 'job': 'Sound Effects Editor', 'name': 'Pat Jackson', 'profile_path': None}, {'credit_id': '58921698c3a368096a009788', 'department': 'Crew', 'gender': 2, 'id': 15894, 'job': 'Sound Design Assistant', 'name': 'Tom Myers', 'profile_path': None}, {'credit_id': '589216a89251412dc2009ca4', 'department': 'Sound', 'gender': 0, 'id': 1414177, 'job': 'Assistant Sound Editor', 'name': 'J.R. Grubbs', 'profile_path': None}, {'credit_id': '589216c19251412dc2009cb9', 'department': 'Sound', 'gender': 1, 'id': 1748724, 'job': 'Assistant Sound Editor', 'name': 'Susan Sanford', 'profile_path': None}, {'credit_id': '589216ccc3a3680973009274', 'department': 'Sound', 'gender': 0, 'id': 1748725, 'job': 'Assistant Sound Editor', 'name': 'Susan Popovic', 'profile_path': None}, {'credit_id': '589216d79251412dc8009aa0', 'department': 'Sound', 'gender': 0, 'id': 8067, 'job': 'Assistant Sound Editor', 'name': 'Dan Engstrom', 'profile_path': None}, {'credit_id': '589216e49251412dcd009a4f', 'department': 'Production', 'gender': 1, 'id': 7902, 'job': 'Casting Consultant', 'name': 'Ruth Lambert', 'profile_path': None}, {'credit_id': '589216f39251412dc2009cf3', 'department': 'Production', 'gender': 0, 'id': 84493, 'job': 'ADR Voice Casting', 'name': 'Mickie McGowan', 'profile_path': '/k7TjJBfINsg8vLQxJwos6XObAD6.jpg'}]\n"
     ]
    }
   ],
   "source": [
    "# veo los datos que tienen las columnas cast y crew en una de sus filas\n",
    "print('col cast:', dfc['cast'].iloc[0])\n",
    "print('col crew:', dfc['crew'].iloc[0])"
   ]
  },
  {
   "cell_type": "code",
   "execution_count": 21,
   "metadata": {},
   "outputs": [
    {
     "data": {
      "text/plain": [
       "array([\"[{'cast_id': 14, 'character': 'Woody (voice)', 'credit_id': '52fe4284c3a36847f8024f95', 'gender': 2, 'id': 31, 'name': 'Tom Hanks', 'order': 0, 'profile_path': '/pQFoyx7rp09CJTAb932F2g8Nlho.jpg'}, {'cast_id': 15, 'character': 'Buzz Lightyear (voice)', 'credit_id': '52fe4284c3a36847f8024f99', 'gender': 2, 'id': 12898, 'name': 'Tim Allen', 'order': 1, 'profile_path': '/uX2xVf6pMmPepxnvFWyBtjexzgY.jpg'}, {'cast_id': 16, 'character': 'Mr. Potato Head (voice)', 'credit_id': '52fe4284c3a36847f8024f9d', 'gender': 2, 'id': 7167, 'name': 'Don Rickles', 'order': 2, 'profile_path': '/h5BcaDMPRVLHLDzbQavec4xfSdt.jpg'}, {'cast_id': 17, 'character': 'Slinky Dog (voice)', 'credit_id': '52fe4284c3a36847f8024fa1', 'gender': 2, 'id': 12899, 'name': 'Jim Varney', 'order': 3, 'profile_path': '/eIo2jVVXYgjDtaHoF19Ll9vtW7h.jpg'}, {'cast_id': 18, 'character': 'Rex (voice)', 'credit_id': '52fe4284c3a36847f8024fa5', 'gender': 2, 'id': 12900, 'name': 'Wallace Shawn', 'order': 4, 'profile_path': '/oGE6JqPP2xH4tNORKNqxbNPYi7u.jpg'}, {'cast_id': 19, 'character': 'Hamm (voice)', 'credit_id': '52fe4284c3a36847f8024fa9', 'gender': 2, 'id': 7907, 'name': 'John Ratzenberger', 'order': 5, 'profile_path': '/yGechiKWL6TJDfVE2KPSJYqdMsY.jpg'}, {'cast_id': 20, 'character': 'Bo Peep (voice)', 'credit_id': '52fe4284c3a36847f8024fad', 'gender': 1, 'id': 8873, 'name': 'Annie Potts', 'order': 6, 'profile_path': '/eryXT84RL41jHSJcMy4kS3u9y6w.jpg'}, {'cast_id': 26, 'character': 'Andy (voice)', 'credit_id': '52fe4284c3a36847f8024fc1', 'gender': 0, 'id': 1116442, 'name': 'John Morris', 'order': 7, 'profile_path': '/vYGyvK4LzeaUCoNSHtsuqJUY15M.jpg'}, {'cast_id': 22, 'character': 'Sid (voice)', 'credit_id': '52fe4284c3a36847f8024fb1', 'gender': 2, 'id': 12901, 'name': 'Erik von Detten', 'order': 8, 'profile_path': '/twnF1ZaJ1FUNUuo6xLXwcxjayBE.jpg'}, {'cast_id': 23, 'character': 'Mrs. Davis (voice)', 'credit_id': '52fe4284c3a36847f8024fb5', 'gender': 1, 'id': 12133, 'name': 'Laurie Metcalf', 'order': 9, 'profile_path': '/unMMIT60eoBM2sN2nyR7EZ2BvvD.jpg'}, {'cast_id': 24, 'character': 'Sergeant (voice)', 'credit_id': '52fe4284c3a36847f8024fb9', 'gender': 2, 'id': 8655, 'name': 'R. Lee Ermey', 'order': 10, 'profile_path': '/r8GBqFBjypLUP9VVqDqfZ7wYbSs.jpg'}, {'cast_id': 25, 'character': 'Hannah (voice)', 'credit_id': '52fe4284c3a36847f8024fbd', 'gender': 1, 'id': 12903, 'name': 'Sarah Freeman', 'order': 11, 'profile_path': None}, {'cast_id': 27, 'character': 'TV Announcer (voice)', 'credit_id': '52fe4284c3a36847f8024fc5', 'gender': 2, 'id': 37221, 'name': 'Penn Jillette', 'order': 12, 'profile_path': '/zmAaXUdx12NRsssgHbk1T31j2x9.jpg'}]\",\n",
       "       \"[{'cast_id': 1, 'character': 'Alan Parrish', 'credit_id': '52fe44bfc3a36847f80a7c73', 'gender': 2, 'id': 2157, 'name': 'Robin Williams', 'order': 0, 'profile_path': '/sojtJyIV3lkUeThD7A2oHNm8183.jpg'}, {'cast_id': 8, 'character': 'Samuel Alan Parrish / Van Pelt', 'credit_id': '52fe44bfc3a36847f80a7c99', 'gender': 2, 'id': 8537, 'name': 'Jonathan Hyde', 'order': 1, 'profile_path': '/7il5D76vx6QVRVlpVvBPEC40MBi.jpg'}, {'cast_id': 2, 'character': 'Judy Sheperd', 'credit_id': '52fe44bfc3a36847f80a7c77', 'gender': 1, 'id': 205, 'name': 'Kirsten Dunst', 'order': 2, 'profile_path': '/wBXvh6PJd0IUVNpvatPC1kzuHtm.jpg'}, {'cast_id': 24, 'character': 'Peter Shepherd', 'credit_id': '52fe44c0c3a36847f80a7ce7', 'gender': 0, 'id': 145151, 'name': 'Bradley Pierce', 'order': 3, 'profile_path': '/j6iW0vVA23GQniAPSYI6mi4hiEW.jpg'}, {'cast_id': 10, 'character': 'Sarah Whittle', 'credit_id': '52fe44bfc3a36847f80a7c9d', 'gender': 1, 'id': 5149, 'name': 'Bonnie Hunt', 'order': 4, 'profile_path': '/7spiVQwmr8siw5QCcvvdRG3c7Lf.jpg'}, {'cast_id': 25, 'character': 'Nora Shepherd', 'credit_id': '52fe44c0c3a36847f80a7ceb', 'gender': 1, 'id': 10739, 'name': 'Bebe Neuwirth', 'order': 5, 'profile_path': '/xm58rpMRVDHS0IGttw1pTlqGwkN.jpg'}, {'cast_id': 26, 'character': 'Carl Bentley', 'credit_id': '52fe44c0c3a36847f80a7cef', 'gender': 2, 'id': 58563, 'name': 'David Alan Grier', 'order': 6, 'profile_path': '/5tkt3qRZTco4sz604aTIarQ0m8W.jpg'}, {'cast_id': 11, 'character': 'Carol Anne Parrish', 'credit_id': '52fe44bfc3a36847f80a7ca1', 'gender': 1, 'id': 1276, 'name': 'Patricia Clarkson', 'order': 7, 'profile_path': '/10ZSyaUqzUlKTd60HmeiGhlytZG.jpg'}, {'cast_id': 14, 'character': 'Alan Parrish (young)', 'credit_id': '52fe44bfc3a36847f80a7cad', 'gender': 0, 'id': 46530, 'name': 'Adam Hann-Byrd', 'order': 8, 'profile_path': '/hEoqDqtMO91hYWD5iDrDesnLDlt.jpg'}, {'cast_id': 13, 'character': 'Sarah Whittle (young)', 'credit_id': '52fe44bfc3a36847f80a7ca9', 'gender': 1, 'id': 56523, 'name': 'Laura Bell Bundy', 'order': 9, 'profile_path': '/8tAVDBRoZPjKfCbBDyh4iK9JNEp.jpg'}, {'cast_id': 31, 'character': 'Exterminator', 'credit_id': '52fe44c0c3a36847f80a7cff', 'gender': 2, 'id': 51551, 'name': 'James Handy', 'order': 10, 'profile_path': '/vm0WQmuP8jEGgFTd3VCcJe7zpUi.jpg'}, {'cast_id': 12, 'character': 'Mrs. Thomas the Realtor', 'credit_id': '52fe44bfc3a36847f80a7ca5', 'gender': 1, 'id': 56522, 'name': 'Gillian Barber', 'order': 11, 'profile_path': '/qoqPX15J5jh6Sy0A9JvvRJIuw64.jpg'}, {'cast_id': 28, 'character': 'Benjamin', 'credit_id': '52fe44c0c3a36847f80a7cf3', 'gender': 2, 'id': 1000304, 'name': 'Brandon Obray', 'order': 12, 'profile_path': None}, {'cast_id': 29, 'character': 'Caleb', 'credit_id': '52fe44c0c3a36847f80a7cf7', 'gender': 0, 'id': 188949, 'name': 'Cyrus Thiedeke', 'order': 13, 'profile_path': None}, {'cast_id': 30, 'character': 'Billy Jessup', 'credit_id': '52fe44c0c3a36847f80a7cfb', 'gender': 0, 'id': 1076551, 'name': 'Gary Joseph Thorup', 'order': 14, 'profile_path': None}, {'cast_id': 32, 'character': 'Cop', 'credit_id': '5588053fc3a36838530063f5', 'gender': 0, 'id': 1480246, 'name': 'Leonard Zola', 'order': 15, 'profile_path': None}, {'cast_id': 33, 'character': 'Bum', 'credit_id': '55935687925141645a002097', 'gender': 2, 'id': 25024, 'name': 'Lloyd Berry', 'order': 16, 'profile_path': '/s7SVCOtvcuQ9wRQPZfUdahb5x88.jpg'}, {'cast_id': 34, 'character': 'Jim Shepherd', 'credit_id': '559356d09251415df8002cb7', 'gender': 2, 'id': 27110, 'name': 'Malcolm Stewart', 'order': 17, 'profile_path': '/l2vgzkLR7GRr8ugjZCILA0OiliI.jpg'}, {'cast_id': 35, 'character': 'Martha Shepherd', 'credit_id': '55935730925141645a0020ad', 'gender': 0, 'id': 53715, 'name': 'Annabel Kershaw', 'order': 18, 'profile_path': '/1VqbvAohBwFhETZtDe76JXQcxKm.jpg'}, {'cast_id': 36, 'character': 'Gun Salesman', 'credit_id': '5593576992514167fd000610', 'gender': 2, 'id': 1379424, 'name': 'Darryl Henriques', 'order': 19, 'profile_path': '/7QMHooY9ewNQlE24WKAOdwW0evU.jpg'}, {'cast_id': 37, 'character': 'Paramedic', 'credit_id': '559357ae92514152de002f42', 'gender': 0, 'id': 1235504, 'name': 'Robyn Driscoll', 'order': 20, 'profile_path': None}, {'cast_id': 50, 'character': 'Paramedic', 'credit_id': '5657803b925141018f00a5dc', 'gender': 2, 'id': 25389, 'name': 'Peter Bryant', 'order': 21, 'profile_path': '/fkcx9Tnp25UC5HlI2eW3nGvumsZ.jpg'}, {'cast_id': 39, 'character': 'Girl', 'credit_id': '559358e292514152de002f63', 'gender': 0, 'id': 1483449, 'name': 'Sarah Gilson', 'order': 22, 'profile_path': None}, {'cast_id': 40, 'character': 'Girl', 'credit_id': '5593590d92514152db002df3', 'gender': 0, 'id': 1483450, 'name': 'Florica Vlad', 'order': 23, 'profile_path': None}, {'cast_id': 41, 'character': 'Baker', 'credit_id': '55935946c3a36869d1001b4d', 'gender': 0, 'id': 1483451, 'name': 'June Lion', 'order': 24, 'profile_path': None}, {'cast_id': 42, 'character': 'Pianist', 'credit_id': '5593597692514167fd000644', 'gender': 0, 'id': 1483452, 'name': 'Brenda Lockmuller', 'order': 25, 'profile_path': None}]\",\n",
       "       \"[{'cast_id': 2, 'character': 'Max Goldman', 'credit_id': '52fe466a9251416c75077a8d', 'gender': 2, 'id': 6837, 'name': 'Walter Matthau', 'order': 0, 'profile_path': '/xJVkvprOnzP5Zdh5y63y8HHniDZ.jpg'}, {'cast_id': 3, 'character': 'John Gustafson', 'credit_id': '52fe466a9251416c75077a91', 'gender': 2, 'id': 3151, 'name': 'Jack Lemmon', 'order': 1, 'profile_path': '/chZmNRYMtqkiDlatprGDH4BzGqG.jpg'}, {'cast_id': 4, 'character': 'Ariel Gustafson', 'credit_id': '52fe466a9251416c75077a95', 'gender': 1, 'id': 13567, 'name': 'Ann-Margret', 'order': 2, 'profile_path': '/jx5lTaJ5VXZHYB52gaOTAZ9STZk.jpg'}, {'cast_id': 5, 'character': 'Maria Sophia Coletta Ragetti', 'credit_id': '52fe466a9251416c75077a99', 'gender': 1, 'id': 16757, 'name': 'Sophia Loren', 'order': 3, 'profile_path': '/emKLhbji1c7BjcA2DdbWf0EP9zH.jpg'}, {'cast_id': 6, 'character': 'Melanie Gustafson', 'credit_id': '52fe466a9251416c75077a9d', 'gender': 1, 'id': 589, 'name': 'Daryl Hannah', 'order': 4, 'profile_path': '/4LLmp6AQdlj6ueGCRbVRSGvvFSt.jpg'}, {'cast_id': 9, 'character': 'Grandpa Gustafson', 'credit_id': '53e5fcc2c3a3684430000d65', 'gender': 2, 'id': 16523, 'name': 'Burgess Meredith', 'order': 5, 'profile_path': '/lm98oKloU33Q7QDIIMSyc4Pr2jA.jpg'}, {'cast_id': 10, 'character': 'Jacob Goldman', 'credit_id': '53e5fcd4c3a3684433000e1a', 'gender': 2, 'id': 7166, 'name': 'Kevin Pollak', 'order': 6, 'profile_path': '/kwu2T8CDnThZTzE88uiSgJ5eHXf.jpg'}]\",\n",
       "       ...,\n",
       "       '[{\\'cast_id\\': 1002, \\'character\\': \\'Sister Angela\\', \\'credit_id\\': \\'52fe4af1c3a36847f81e9b1f\\', \\'gender\\': 1, \\'id\\': 1043186, \\'name\\': \\'Angel Aquino\\', \\'order\\': 0, \\'profile_path\\': \\'/aZLCxPbokn0EX1cNXxF9UCaA8gP.jpg\\'}, {\\'cast_id\\': 1008, \\'character\\': \\'Homer\\', \\'credit_id\\': \\'559eb4ecc3a368081d002158\\', \\'gender\\': 0, \\'id\\': 111636, \\'name\\': \\'Perry Dizon\\', \\'order\\': 1, \\'profile_path\\': None}, {\\'cast_id\\': 1007, \\'character\\': \\'Crazy Woman/Virgin\\', \\'credit_id\\': \\'559eb4d3c3a3680820001dbe\\', \\'gender\\': 0, \\'id\\': 1204271, \\'name\\': \\'Hazel Orencio\\', \\'order\\': 2, \\'profile_path\\': \\'/jvAauEKA2N5Lb164SxqupNDAJ2X.jpg\\'}, {\\'cast_id\\': 1005, \\'character\\': \\'Amang Tiburcio\\', \\'credit_id\\': \\'52fe4af1c3a36847f81e9b2b\\', \\'gender\\': 2, \\'id\\': 278923, \\'name\\': \\'Joel Torre\\', \\'order\\': 3, \\'profile_path\\': \\'/5PP5K8EgMhcRA3n1IfRhfcxDS5M.jpg\\'}, {\\'cast_id\\': 1015, \\'character\\': \\'Ex-convict/Dindo\\', \\'credit_id\\': \\'593ab9f5c3a36822f800d5af\\', \\'gender\\': 0, \\'id\\': 1042953, \\'name\\': \\'Bart Guingona\\', \\'order\\': 4, \\'profile_path\\': \\'/fj2d05jly713XeV9eRis2VBUAjo.jpg\\'}, {\\'cast_id\\': 1004, \\'character\\': \\'Philosopher\\', \\'credit_id\\': \\'52fe4af1c3a36847f81e9b27\\', \\'gender\\': 0, \\'id\\': 575774, \\'name\\': \\'Soliman Cruz \\', \\'order\\': 5, \\'profile_path\\': \\'/kPQMcYBcO2pCIPulc7VC16YFovE.jpg\\'}, {\\'cast_id\\': 1014, \\'character\\': \\'Photographer\\', \\'credit_id\\': \\'58fb45b992514163e300cc58\\', \\'gender\\': 0, \\'id\\': 1184497, \\'name\\': \\'Roeder\\', \\'order\\': 6, \\'profile_path\\': None}, {\\'cast_id\\': 1003, \\'character\\': \\'Ana/Call Center Woman\\', \\'credit_id\\': \\'52fe4af1c3a36847f81e9b23\\', \\'gender\\': 0, \\'id\\': 462483, \\'name\\': \\'Angeli Bayani\\', \\'order\\': 7, \\'profile_path\\': \\'/kFCD2eDPj5LKGxauPF2rchlP74h.jpg\\'}, {\\'cast_id\\': 1016, \\'character\\': \\'Filmmaker/Butcher\\', \\'credit_id\\': \\'593abab49251411ef800e348\\', \\'gender\\': 0, \\'id\\': 1728582, \\'name\\': \\'Dante Perez\\', \\'order\\': 8, \\'profile_path\\': None}, {\\'cast_id\\': 1006, \\'character\\': \\'Poet of the Rain\\', \\'credit_id\\': \\'559eb4ca9251412dac001e20\\', \\'gender\\': 0, \\'id\\': 1485780, \\'name\\': \\'Betty Uy-Regala\\', \\'order\\': 9, \\'profile_path\\': None}, {\\'cast_id\\': 1013, \\'character\\': \"Homer\\'s mother\", \\'credit_id\\': \\'58fb45a4925141643c00c6ee\\', \\'gender\\': 0, \\'id\\': 1801183, \\'name\\': \\'Modesta\\', \\'order\\': 10, \\'profile_path\\': None}]',\n",
       "       \"[{'cast_id': 6, 'character': 'Emily Shaw', 'credit_id': '52fe4776c3a368484e0c83a3', 'gender': 1, 'id': 23764, 'name': 'Erika Eleniak', 'order': 0, 'profile_path': '/7ZdUGY78qpB2MkTzAQvYEYzncwN.jpg'}, {'cast_id': 7, 'character': 'Det. Mark Winston', 'credit_id': '52fe4776c3a368484e0c83a7', 'gender': 2, 'id': 2059, 'name': 'Adam Baldwin', 'order': 1, 'profile_path': '/vhZ8AD36h09mBLuyIXboglRLgIu.jpg'}, {'cast_id': 8, 'character': 'Jayne Ferré', 'credit_id': '52fe4776c3a368484e0c83ab', 'gender': 1, 'id': 46277, 'name': 'Julie du Page', 'order': 2, 'profile_path': '/gBLzn3Z2S7Hx7A0stZBi7mk9fpD.jpg'}, {'cast_id': 10, 'character': 'Alex Tyler', 'credit_id': '52fe4776c3a368484e0c83b3', 'gender': 2, 'id': 1736, 'name': 'James Remar', 'order': 3, 'profile_path': '/AeSuQlBclvWqztlpkf9nIhvvhsc.jpg'}, {'cast_id': 11, 'character': 'Tony', 'credit_id': '52fe4776c3a368484e0c83b7', 'gender': 2, 'id': 58646, 'name': 'Damian Chapa', 'order': 4, 'profile_path': '/e00LyDBIhDOFWgwfSU0wCTLL4ax.jpg'}, {'cast_id': 12, 'character': 'Frank Bianci', 'credit_id': '57ed0c259251410c5b00eccb', 'gender': 2, 'id': 54649, 'name': 'Louis Mandylor', 'order': 5, 'profile_path': '/4DCfloJ8CDsvchaKE0KdYW07obz.jpg'}, {'cast_id': 13, 'character': 'Detective Stan', 'credit_id': '57ed0e5bc3a3685e36007370', 'gender': 2, 'id': 55270, 'name': 'Tom Wright', 'order': 6, 'profile_path': '/AlBgY9VySrLBhVsOJXtUXuflOGG.jpg'}, {'cast_id': 9, 'character': 'Kerry Shaw', 'credit_id': '52fe4776c3a368484e0c83af', 'gender': 2, 'id': 169498, 'name': 'Jeremy Lelliott', 'order': 7, 'profile_path': None}, {'cast_id': 14, 'character': 'Peter Quinn', 'credit_id': '57ed0e70c3a3683a990059d4', 'gender': 2, 'id': 51656, 'name': 'James Quattrochi', 'order': 8, 'profile_path': None}, {'cast_id': 15, 'character': 'Boyd', 'credit_id': '57ed0e829251416b58006a75', 'gender': 0, 'id': 1177500, 'name': 'Jason Widener', 'order': 9, 'profile_path': None}, {'cast_id': 16, 'character': 'Sammy Benetto', 'credit_id': '57ed0e90c3a3687dcf005d12', 'gender': 2, 'id': 154762, 'name': 'Joe Sabatino', 'order': 10, 'profile_path': None}, {'cast_id': 17, 'character': 'Steve', 'credit_id': '57ed0f43c3a3683a85005278', 'gender': 2, 'id': 93930, 'name': 'Kiko Ellsworth', 'order': 11, 'profile_path': '/NIHqhiMtAboquWPg5hCu5o1Bax.jpg'}, {'cast_id': 18, 'character': 'Fred', 'credit_id': '57ed0f4ec3a36839f700532b', 'gender': 2, 'id': 81690, 'name': 'Don Swayze', 'order': 12, 'profile_path': '/2JmY7WUmuyvwflKST6nLH7pyd5e.jpg'}, {'cast_id': 19, 'character': 'Artie, Hitman #1', 'credit_id': '57ed0f5ac3a36839f7005330', 'gender': 2, 'id': 37822, 'name': 'Peter Dobson', 'order': 13, 'profile_path': '/3laM5gryWnG2tfjE2jt0UuPTFlp.jpg'}, {'cast_id': 20, 'character': 'Doorman', 'credit_id': '57ed10149251416b58006b06', 'gender': 0, 'id': 1686379, 'name': 'Darrell Dubovsky', 'order': 14, 'profile_path': None}]\",\n",
       "       \"[{'cast_id': 2, 'character': '', 'credit_id': '52fe4ea59251416c7515d7d5', 'gender': 2, 'id': 544742, 'name': 'Iwan Mosschuchin', 'order': 0, 'profile_path': None}, {'cast_id': 3, 'character': '', 'credit_id': '52fe4ea59251416c7515d7d9', 'gender': 1, 'id': 1090923, 'name': 'Nathalie Lissenko', 'order': 1, 'profile_path': None}, {'cast_id': 4, 'character': '', 'credit_id': '52fe4ea59251416c7515d7dd', 'gender': 2, 'id': 1136422, 'name': 'Pavel Pavlov', 'order': 2, 'profile_path': None}, {'cast_id': 5, 'character': '', 'credit_id': '52fe4ea59251416c7515d7e1', 'gender': 0, 'id': 1261758, 'name': 'Aleksandr Chabrov', 'order': 3, 'profile_path': None}, {'cast_id': 6, 'character': '', 'credit_id': '52fe4ea59251416c7515d7e5', 'gender': 1, 'id': 29199, 'name': 'Vera Orlova', 'order': 4, 'profile_path': '/n1NXVGNzNxtqsMWxLT1h8GO8Kpi.jpg'}]\"],\n",
       "      dtype=object)"
      ]
     },
     "execution_count": 21,
     "metadata": {},
     "output_type": "execute_result"
    }
   ],
   "source": [
    "# veo como es la columna cast. dice type Object\n",
    "dfc['cast'].unique()"
   ]
  },
  {
   "cell_type": "code",
   "execution_count": null,
   "metadata": {},
   "outputs": [],
   "source": [
    "# Tiene comillas. Cada fila es un string. No son listas de diccionarios. Hay que desarmar la fila y convertirlo a eso\n",
    "# Antes de desanidarlo"
   ]
  },
  {
   "cell_type": "code",
   "execution_count": 22,
   "metadata": {},
   "outputs": [],
   "source": [
    "# armo una funcion para desanidar las columnas necesarias (con muchas ayudas varias)\n",
    "\n",
    "def unnest_col(data, col_name, prefix_col):\n",
    "    ''' Args: \n",
    "        - data: dataframe donde esta la columna a desanidar\n",
    "        - col_name: nombre de la columna a desanidar\n",
    "        - prefix_col: prefijo que tendrán cada una de las columnas generadas al desanidar la columna col_name \n",
    "    '''\n",
    "    # cada fila es un string, no son listas porque tienen \"\" \n",
    "    # convierte la columna string a lista de diccionario\n",
    "    data[col_name] = data[col_name].apply(lambda x: ast.literal_eval(x) if isinstance(x,str) and pd.notnull(x) else [])\n",
    "    \n",
    "    # hace una fila por cada elemento de la lista de diccionarios\n",
    "    unnested_data = data.explode(col_name).reset_index(drop= True)\n",
    "    \n",
    "    # arma una columna por cada elemento del diccionario, si no es nulo\n",
    "    if unnested_data[col_name].notnull().any():\n",
    "        unnested_keys = pd.json_normalize(unnested_data[col_name])\n",
    "        unnested_keys.columns = [f\"{prefix_col}_{col}\" for col in unnested_keys.columns]\n",
    "        unnested_data = pd.concat([unnested_data.drop(columns = [col_name]), unnested_keys], axis=1)\n",
    "    return unnested_data"
   ]
  },
  {
   "cell_type": "code",
   "execution_count": 23,
   "metadata": {},
   "outputs": [],
   "source": [
    "# desanido la columna cast del dataset credit para obtener los datos necesario para la funcion get_actor\n",
    "# unnest_col(data, col_name, prefix_col)\n",
    "dfc_cast = unnest_col(dfc, 'cast', 'cast')"
   ]
  },
  {
   "cell_type": "code",
   "execution_count": 24,
   "metadata": {},
   "outputs": [
    {
     "data": {
      "text/plain": [
       "id                                                                 862\n",
       "crew                 [{'credit_id': '52fe4284c3a36847f8024f49', 'de...\n",
       "cast_cast_id                                                      14.0\n",
       "cast_character                                           Woody (voice)\n",
       "cast_credit_id                                52fe4284c3a36847f8024f95\n",
       "cast_gender                                                        2.0\n",
       "cast_id                                                           31.0\n",
       "cast_name                                                    Tom Hanks\n",
       "cast_order                                                         0.0\n",
       "cast_profile_path                     /pQFoyx7rp09CJTAb932F2g8Nlho.jpg\n",
       "Name: 0, dtype: object"
      ]
     },
     "execution_count": 24,
     "metadata": {},
     "output_type": "execute_result"
    }
   ],
   "source": [
    "# veo los datos de una de las filas para saber qué columnas necesito\n",
    "dfc_cast.iloc[0]"
   ]
  },
  {
   "cell_type": "code",
   "execution_count": 25,
   "metadata": {},
   "outputs": [],
   "source": [
    "# necesito las columnas id, cast_id y cast_name (estos dos ultimos son los nombres de cada uno de los actores que participan en una pelicula)\n",
    "# el id de la pelicula esta repetido en muchas filas\n",
    "# tendre que seleccionar solo algunas peliculas para la funcion get_actor porque si no el dataset sera muy pesado (se me ocurre)\n",
    "# VER ESTO MAS ADELANTE\n",
    "\n",
    "# selecciono las columnas que necesito y guardo el dataset para mas adelante. (Reservar, como dicen en las recetas)\n",
    "# (Podria cambiar los nombres de cast a actor. Pero ya desarrollé las funciones asi que mejor no los modifico)\n",
    "\n",
    "# Extracting specific selected columns to new DataFrame as a copy\n",
    "# If you want to modify the new dataframe at all you'll probably want to use .copy() to avoid a SettingWithCopyWarning.\n",
    "\n",
    "dfc_actors = dfc_cast[['id', 'cast_id' ,  'cast_name']].copy()\n",
    "dfc_actors.to_csv(\"credits_actors.csv\" , index=False)"
   ]
  },
  {
   "cell_type": "markdown",
   "metadata": {},
   "source": [
    "Transformación 6.2: desanido la columna crew"
   ]
  },
  {
   "cell_type": "code",
   "execution_count": 26,
   "metadata": {},
   "outputs": [],
   "source": [
    "# desanido la columna cast del dataset credit para obtener los datos necesario para la funcion get_actor\n",
    "# unnest_col(data, col_name, prefix_col)\n",
    "dfc_crew = unnest_col(dfc, 'crew', 'crew')"
   ]
  },
  {
   "cell_type": "code",
   "execution_count": 27,
   "metadata": {},
   "outputs": [
    {
     "data": {
      "text/html": [
       "<div>\n",
       "<style scoped>\n",
       "    .dataframe tbody tr th:only-of-type {\n",
       "        vertical-align: middle;\n",
       "    }\n",
       "\n",
       "    .dataframe tbody tr th {\n",
       "        vertical-align: top;\n",
       "    }\n",
       "\n",
       "    .dataframe thead th {\n",
       "        text-align: right;\n",
       "    }\n",
       "</style>\n",
       "<table border=\"1\" class=\"dataframe\">\n",
       "  <thead>\n",
       "    <tr style=\"text-align: right;\">\n",
       "      <th></th>\n",
       "      <th>id</th>\n",
       "      <th>cast</th>\n",
       "      <th>crew_credit_id</th>\n",
       "      <th>crew_department</th>\n",
       "      <th>crew_gender</th>\n",
       "      <th>crew_id</th>\n",
       "      <th>crew_job</th>\n",
       "      <th>crew_name</th>\n",
       "      <th>crew_profile_path</th>\n",
       "    </tr>\n",
       "  </thead>\n",
       "  <tbody>\n",
       "    <tr>\n",
       "      <th>0</th>\n",
       "      <td>862</td>\n",
       "      <td>[{'cast_id': 14, 'character': 'Woody (voice)',...</td>\n",
       "      <td>52fe4284c3a36847f8024f49</td>\n",
       "      <td>Directing</td>\n",
       "      <td>2.0</td>\n",
       "      <td>7879.0</td>\n",
       "      <td>Director</td>\n",
       "      <td>John Lasseter</td>\n",
       "      <td>/7EdqiNbr4FRjIhKHyPPdFfEEEFG.jpg</td>\n",
       "    </tr>\n",
       "    <tr>\n",
       "      <th>1</th>\n",
       "      <td>862</td>\n",
       "      <td>[{'cast_id': 14, 'character': 'Woody (voice)',...</td>\n",
       "      <td>52fe4284c3a36847f8024f4f</td>\n",
       "      <td>Writing</td>\n",
       "      <td>2.0</td>\n",
       "      <td>12891.0</td>\n",
       "      <td>Screenplay</td>\n",
       "      <td>Joss Whedon</td>\n",
       "      <td>/dTiVsuaTVTeGmvkhcyJvKp2A5kr.jpg</td>\n",
       "    </tr>\n",
       "    <tr>\n",
       "      <th>2</th>\n",
       "      <td>862</td>\n",
       "      <td>[{'cast_id': 14, 'character': 'Woody (voice)',...</td>\n",
       "      <td>52fe4284c3a36847f8024f55</td>\n",
       "      <td>Writing</td>\n",
       "      <td>2.0</td>\n",
       "      <td>7.0</td>\n",
       "      <td>Screenplay</td>\n",
       "      <td>Andrew Stanton</td>\n",
       "      <td>/pvQWsu0qc8JFQhMVJkTHuexUAa1.jpg</td>\n",
       "    </tr>\n",
       "    <tr>\n",
       "      <th>3</th>\n",
       "      <td>862</td>\n",
       "      <td>[{'cast_id': 14, 'character': 'Woody (voice)',...</td>\n",
       "      <td>52fe4284c3a36847f8024f5b</td>\n",
       "      <td>Writing</td>\n",
       "      <td>2.0</td>\n",
       "      <td>12892.0</td>\n",
       "      <td>Screenplay</td>\n",
       "      <td>Joel Cohen</td>\n",
       "      <td>/dAubAiZcvKFbboWlj7oXOkZnTSu.jpg</td>\n",
       "    </tr>\n",
       "    <tr>\n",
       "      <th>4</th>\n",
       "      <td>862</td>\n",
       "      <td>[{'cast_id': 14, 'character': 'Woody (voice)',...</td>\n",
       "      <td>52fe4284c3a36847f8024f61</td>\n",
       "      <td>Writing</td>\n",
       "      <td>0.0</td>\n",
       "      <td>12893.0</td>\n",
       "      <td>Screenplay</td>\n",
       "      <td>Alec Sokolow</td>\n",
       "      <td>/v79vlRYi94BZUQnkkyznbGUZLjT.jpg</td>\n",
       "    </tr>\n",
       "  </tbody>\n",
       "</table>\n",
       "</div>"
      ],
      "text/plain": [
       "    id                                               cast  \\\n",
       "0  862  [{'cast_id': 14, 'character': 'Woody (voice)',...   \n",
       "1  862  [{'cast_id': 14, 'character': 'Woody (voice)',...   \n",
       "2  862  [{'cast_id': 14, 'character': 'Woody (voice)',...   \n",
       "3  862  [{'cast_id': 14, 'character': 'Woody (voice)',...   \n",
       "4  862  [{'cast_id': 14, 'character': 'Woody (voice)',...   \n",
       "\n",
       "             crew_credit_id crew_department  crew_gender  crew_id    crew_job  \\\n",
       "0  52fe4284c3a36847f8024f49       Directing          2.0   7879.0    Director   \n",
       "1  52fe4284c3a36847f8024f4f         Writing          2.0  12891.0  Screenplay   \n",
       "2  52fe4284c3a36847f8024f55         Writing          2.0      7.0  Screenplay   \n",
       "3  52fe4284c3a36847f8024f5b         Writing          2.0  12892.0  Screenplay   \n",
       "4  52fe4284c3a36847f8024f61         Writing          0.0  12893.0  Screenplay   \n",
       "\n",
       "        crew_name                 crew_profile_path  \n",
       "0   John Lasseter  /7EdqiNbr4FRjIhKHyPPdFfEEEFG.jpg  \n",
       "1     Joss Whedon  /dTiVsuaTVTeGmvkhcyJvKp2A5kr.jpg  \n",
       "2  Andrew Stanton  /pvQWsu0qc8JFQhMVJkTHuexUAa1.jpg  \n",
       "3      Joel Cohen  /dAubAiZcvKFbboWlj7oXOkZnTSu.jpg  \n",
       "4    Alec Sokolow  /v79vlRYi94BZUQnkkyznbGUZLjT.jpg  "
      ]
     },
     "execution_count": 27,
     "metadata": {},
     "output_type": "execute_result"
    }
   ],
   "source": [
    "# Veo como quedo el dataset despues de desanidar la columna\n",
    "dfc_crew.head(5)"
   ]
  },
  {
   "cell_type": "code",
   "execution_count": 28,
   "metadata": {},
   "outputs": [
    {
     "data": {
      "text/html": [
       "<div>\n",
       "<style scoped>\n",
       "    .dataframe tbody tr th:only-of-type {\n",
       "        vertical-align: middle;\n",
       "    }\n",
       "\n",
       "    .dataframe tbody tr th {\n",
       "        vertical-align: top;\n",
       "    }\n",
       "\n",
       "    .dataframe thead th {\n",
       "        text-align: right;\n",
       "    }\n",
       "</style>\n",
       "<table border=\"1\" class=\"dataframe\">\n",
       "  <thead>\n",
       "    <tr style=\"text-align: right;\">\n",
       "      <th></th>\n",
       "      <th>id</th>\n",
       "      <th>cast</th>\n",
       "      <th>crew_credit_id</th>\n",
       "      <th>crew_department</th>\n",
       "      <th>crew_gender</th>\n",
       "      <th>crew_id</th>\n",
       "      <th>crew_job</th>\n",
       "      <th>crew_name</th>\n",
       "      <th>crew_profile_path</th>\n",
       "    </tr>\n",
       "  </thead>\n",
       "  <tbody>\n",
       "    <tr>\n",
       "      <th>0</th>\n",
       "      <td>862</td>\n",
       "      <td>[{'cast_id': 14, 'character': 'Woody (voice)',...</td>\n",
       "      <td>52fe4284c3a36847f8024f49</td>\n",
       "      <td>Directing</td>\n",
       "      <td>2.0</td>\n",
       "      <td>7879.0</td>\n",
       "      <td>Director</td>\n",
       "      <td>John Lasseter</td>\n",
       "      <td>/7EdqiNbr4FRjIhKHyPPdFfEEEFG.jpg</td>\n",
       "    </tr>\n",
       "    <tr>\n",
       "      <th>109</th>\n",
       "      <td>8844</td>\n",
       "      <td>[{'cast_id': 1, 'character': 'Alan Parrish', '...</td>\n",
       "      <td>52fe44bfc3a36847f80a7c7d</td>\n",
       "      <td>Directing</td>\n",
       "      <td>2.0</td>\n",
       "      <td>4945.0</td>\n",
       "      <td>Director</td>\n",
       "      <td>Joe Johnston</td>\n",
       "      <td>/fok4jaO62v5IP6hkpaaAcXuw2H.jpg</td>\n",
       "    </tr>\n",
       "    <tr>\n",
       "      <th>122</th>\n",
       "      <td>15602</td>\n",
       "      <td>[{'cast_id': 2, 'character': 'Max Goldman', 'c...</td>\n",
       "      <td>52fe466a9251416c75077a89</td>\n",
       "      <td>Directing</td>\n",
       "      <td>2.0</td>\n",
       "      <td>26502.0</td>\n",
       "      <td>Director</td>\n",
       "      <td>Howard Deutch</td>\n",
       "      <td>/68Vae1HkU1NxQZ6KEmuxIpno7c9.jpg</td>\n",
       "    </tr>\n",
       "    <tr>\n",
       "      <th>126</th>\n",
       "      <td>31357</td>\n",
       "      <td>[{'cast_id': 1, 'character': 'Savannah 'Vannah...</td>\n",
       "      <td>52fe44779251416c91011acb</td>\n",
       "      <td>Directing</td>\n",
       "      <td>2.0</td>\n",
       "      <td>2178.0</td>\n",
       "      <td>Director</td>\n",
       "      <td>Forest Whitaker</td>\n",
       "      <td>/4pMQkelS5lK661m9Kz3oIxLYiyS.jpg</td>\n",
       "    </tr>\n",
       "    <tr>\n",
       "      <th>141</th>\n",
       "      <td>11862</td>\n",
       "      <td>[{'cast_id': 1, 'character': 'George Banks', '...</td>\n",
       "      <td>52fe44959251416c75039eef</td>\n",
       "      <td>Directing</td>\n",
       "      <td>2.0</td>\n",
       "      <td>56106.0</td>\n",
       "      <td>Director</td>\n",
       "      <td>Charles Shyer</td>\n",
       "      <td>/hnWGd74CbmTcDCFQiJ8SYLazIXW.jpg</td>\n",
       "    </tr>\n",
       "  </tbody>\n",
       "</table>\n",
       "</div>"
      ],
      "text/plain": [
       "        id                                               cast  \\\n",
       "0      862  [{'cast_id': 14, 'character': 'Woody (voice)',...   \n",
       "109   8844  [{'cast_id': 1, 'character': 'Alan Parrish', '...   \n",
       "122  15602  [{'cast_id': 2, 'character': 'Max Goldman', 'c...   \n",
       "126  31357  [{'cast_id': 1, 'character': 'Savannah 'Vannah...   \n",
       "141  11862  [{'cast_id': 1, 'character': 'George Banks', '...   \n",
       "\n",
       "               crew_credit_id crew_department  crew_gender  crew_id  crew_job  \\\n",
       "0    52fe4284c3a36847f8024f49       Directing          2.0   7879.0  Director   \n",
       "109  52fe44bfc3a36847f80a7c7d       Directing          2.0   4945.0  Director   \n",
       "122  52fe466a9251416c75077a89       Directing          2.0  26502.0  Director   \n",
       "126  52fe44779251416c91011acb       Directing          2.0   2178.0  Director   \n",
       "141  52fe44959251416c75039eef       Directing          2.0  56106.0  Director   \n",
       "\n",
       "           crew_name                 crew_profile_path  \n",
       "0      John Lasseter  /7EdqiNbr4FRjIhKHyPPdFfEEEFG.jpg  \n",
       "109     Joe Johnston   /fok4jaO62v5IP6hkpaaAcXuw2H.jpg  \n",
       "122    Howard Deutch  /68Vae1HkU1NxQZ6KEmuxIpno7c9.jpg  \n",
       "126  Forest Whitaker  /4pMQkelS5lK661m9Kz3oIxLYiyS.jpg  \n",
       "141    Charles Shyer  /hnWGd74CbmTcDCFQiJ8SYLazIXW.jpg  "
      ]
     },
     "execution_count": 28,
     "metadata": {},
     "output_type": "execute_result"
    }
   ],
   "source": [
    "# bastante feo\n",
    "# Necesito las filas donde crew_job ='Director'\n",
    "\n",
    "# selecciono esas filas y veo como queda\n",
    "# rslt_df = dataframe.loc[dataframe['Percentage'] != 95]\n",
    "dfc_crew_dir = dfc_crew.loc[dfc_crew['crew_job'] == 'Director']\n",
    "\n",
    "dfc_crew_dir.head(5)"
   ]
  },
  {
   "cell_type": "code",
   "execution_count": 29,
   "metadata": {},
   "outputs": [
    {
     "name": "stdout",
     "output_type": "stream",
     "text": [
      "<class 'pandas.core.frame.DataFrame'>\n",
      "Index: 48957 entries, 0 to 464449\n",
      "Data columns (total 3 columns):\n",
      " #   Column     Non-Null Count  Dtype  \n",
      "---  ------     --------------  -----  \n",
      " 0   id         48957 non-null  int64  \n",
      " 1   crew_id    48957 non-null  float64\n",
      " 2   crew_name  48957 non-null  object \n",
      "dtypes: float64(1), int64(1), object(1)\n",
      "memory usage: 1.5+ MB\n"
     ]
    }
   ],
   "source": [
    "# selecciono las columnas que necesito\n",
    "dfc_crew_dir1 = dfc_crew_dir[['id', 'crew_id', 'crew_name']]\n",
    "\n",
    "# parece que 'crew_id' es float. \n",
    "dfc_crew_dir1.info()"
   ]
  },
  {
   "cell_type": "code",
   "execution_count": 30,
   "metadata": {},
   "outputs": [],
   "source": [
    "# convierto id_crew a integer. (Por las dudas. Nunca vi ids tipo float)\n",
    "\n",
    "# converting 'Weight' from float to int\n",
    "# df['Weight'] = df['Weight'].astype(int)\n",
    "dfc_crew_dir1['crew_id'] = dfc_crew_dir1['crew_id'].astype(int)"
   ]
  },
  {
   "cell_type": "code",
   "execution_count": 31,
   "metadata": {},
   "outputs": [],
   "source": [
    "# Guardo el dataset con los datos de directores para usar en las funciones\n",
    "dfc_crew_dir1.to_csv(\"credits_directors.csv\" , index=False)"
   ]
  },
  {
   "cell_type": "markdown",
   "metadata": {},
   "source": [
    "Me parece que ya hice todas las transformaciones pedidas (espero que así sea)"
   ]
  }
 ],
 "metadata": {
  "kernelspec": {
   "display_name": "Python 3",
   "language": "python",
   "name": "python3"
  },
  "language_info": {
   "codemirror_mode": {
    "name": "ipython",
    "version": 3
   },
   "file_extension": ".py",
   "mimetype": "text/x-python",
   "name": "python",
   "nbconvert_exporter": "python",
   "pygments_lexer": "ipython3",
   "version": "3.12.2"
  }
 },
 "nbformat": 4,
 "nbformat_minor": 2
}
